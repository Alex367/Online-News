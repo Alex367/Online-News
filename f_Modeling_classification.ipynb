{
 "cells": [
  {
   "cell_type": "code",
   "execution_count": 1,
   "id": "uniform-republican",
   "metadata": {},
   "outputs": [],
   "source": [
    "import pandas as pd\n",
    "import numpy as np\n",
    "import matplotlib.pyplot as plt\n",
    "import seaborn as sns\n",
    "from sklearn.pipeline import make_pipeline, Pipeline\n",
    "from sklearn.preprocessing import MinMaxScaler, RobustScaler, QuantileTransformer\n",
    "from sklearn.linear_model import LogisticRegression\n",
    "from sklearn.model_selection import cross_val_score, cross_val_predict, train_test_split, GridSearchCV\n",
    "from sklearn.ensemble import RandomForestClassifier, GradientBoostingClassifier\n",
    "from sklearn.tree import DecisionTreeClassifier\n",
    "from sklearn.neighbors import KNeighborsClassifier\n",
    "from sklearn.metrics import classification_report, roc_curve, auc, confusion_matrix\n",
    "import time\n",
    "from sklearn.neural_network import MLPClassifier\n",
    "from sklearn.linear_model import RidgeClassifier\n",
    "from sklearn.metrics import roc_auc_score\n",
    "from sklearn.experimental import enable_halving_search_cv\n",
    "from sklearn.model_selection import HalvingGridSearchCV"
   ]
  },
  {
   "cell_type": "code",
   "execution_count": 2,
   "id": "cooked-bruce",
   "metadata": {},
   "outputs": [],
   "source": [
    "# Global variables\n",
    "algorithm_timer = False"
   ]
  },
  {
   "cell_type": "code",
   "execution_count": 3,
   "id": "compatible-payroll",
   "metadata": {},
   "outputs": [],
   "source": [
    "cl_data = pd.read_csv('WithOutliers.csv', sep=',')"
   ]
  },
  {
   "cell_type": "code",
   "execution_count": 4,
   "id": "earlier-orange",
   "metadata": {},
   "outputs": [
    {
     "data": {
      "text/plain": [
       "(38448, 44)"
      ]
     },
     "execution_count": 4,
     "metadata": {},
     "output_type": "execute_result"
    }
   ],
   "source": [
    "cl_data.shape"
   ]
  },
  {
   "cell_type": "code",
   "execution_count": 5,
   "id": "incoming-generator",
   "metadata": {
    "scrolled": false
   },
   "outputs": [
    {
     "data": {
      "text/html": [
       "<div>\n",
       "<style scoped>\n",
       "    .dataframe tbody tr th:only-of-type {\n",
       "        vertical-align: middle;\n",
       "    }\n",
       "\n",
       "    .dataframe tbody tr th {\n",
       "        vertical-align: top;\n",
       "    }\n",
       "\n",
       "    .dataframe thead th {\n",
       "        text-align: right;\n",
       "    }\n",
       "</style>\n",
       "<table border=\"1\" class=\"dataframe\">\n",
       "  <thead>\n",
       "    <tr style=\"text-align: right;\">\n",
       "      <th></th>\n",
       "      <th>num_tokens_title</th>\n",
       "      <th>num_tokens_content</th>\n",
       "      <th>rate_unique_tokens</th>\n",
       "      <th>num_hrefs</th>\n",
       "      <th>num_self_hrefs</th>\n",
       "      <th>num_imgs</th>\n",
       "      <th>num_videos</th>\n",
       "      <th>avg_token_length</th>\n",
       "      <th>num_keywords</th>\n",
       "      <th>data_channel_is_lifestyle</th>\n",
       "      <th>...</th>\n",
       "      <th>avg_positive_polarity</th>\n",
       "      <th>min_positive_polarity</th>\n",
       "      <th>max_positive_polarity</th>\n",
       "      <th>min_negative_polarity</th>\n",
       "      <th>max_negative_polarity</th>\n",
       "      <th>title_subjectivity</th>\n",
       "      <th>title_polarity</th>\n",
       "      <th>abs_title_subjectivity</th>\n",
       "      <th>shares</th>\n",
       "      <th>cl_shares</th>\n",
       "    </tr>\n",
       "  </thead>\n",
       "  <tbody>\n",
       "    <tr>\n",
       "      <th>0</th>\n",
       "      <td>12.0</td>\n",
       "      <td>219.0</td>\n",
       "      <td>0.663594</td>\n",
       "      <td>4.0</td>\n",
       "      <td>2.0</td>\n",
       "      <td>1.0</td>\n",
       "      <td>0.0</td>\n",
       "      <td>4.680365</td>\n",
       "      <td>5.0</td>\n",
       "      <td>0.0</td>\n",
       "      <td>...</td>\n",
       "      <td>0.378636</td>\n",
       "      <td>0.100000</td>\n",
       "      <td>0.70</td>\n",
       "      <td>-0.600</td>\n",
       "      <td>-0.200000</td>\n",
       "      <td>0.500000</td>\n",
       "      <td>-0.187500</td>\n",
       "      <td>0.000000</td>\n",
       "      <td>593</td>\n",
       "      <td>0</td>\n",
       "    </tr>\n",
       "    <tr>\n",
       "      <th>1</th>\n",
       "      <td>9.0</td>\n",
       "      <td>255.0</td>\n",
       "      <td>0.604743</td>\n",
       "      <td>3.0</td>\n",
       "      <td>1.0</td>\n",
       "      <td>1.0</td>\n",
       "      <td>0.0</td>\n",
       "      <td>4.913725</td>\n",
       "      <td>4.0</td>\n",
       "      <td>0.0</td>\n",
       "      <td>...</td>\n",
       "      <td>0.286915</td>\n",
       "      <td>0.033333</td>\n",
       "      <td>0.70</td>\n",
       "      <td>-0.125</td>\n",
       "      <td>-0.100000</td>\n",
       "      <td>0.000000</td>\n",
       "      <td>0.000000</td>\n",
       "      <td>0.500000</td>\n",
       "      <td>711</td>\n",
       "      <td>0</td>\n",
       "    </tr>\n",
       "    <tr>\n",
       "      <th>2</th>\n",
       "      <td>9.0</td>\n",
       "      <td>211.0</td>\n",
       "      <td>0.575130</td>\n",
       "      <td>3.0</td>\n",
       "      <td>1.0</td>\n",
       "      <td>1.0</td>\n",
       "      <td>0.0</td>\n",
       "      <td>4.393365</td>\n",
       "      <td>6.0</td>\n",
       "      <td>0.0</td>\n",
       "      <td>...</td>\n",
       "      <td>0.495833</td>\n",
       "      <td>0.100000</td>\n",
       "      <td>1.00</td>\n",
       "      <td>-0.800</td>\n",
       "      <td>-0.133333</td>\n",
       "      <td>0.000000</td>\n",
       "      <td>0.000000</td>\n",
       "      <td>0.500000</td>\n",
       "      <td>1500</td>\n",
       "      <td>1</td>\n",
       "    </tr>\n",
       "    <tr>\n",
       "      <th>3</th>\n",
       "      <td>9.0</td>\n",
       "      <td>531.0</td>\n",
       "      <td>0.503788</td>\n",
       "      <td>9.0</td>\n",
       "      <td>0.0</td>\n",
       "      <td>1.0</td>\n",
       "      <td>0.0</td>\n",
       "      <td>4.404896</td>\n",
       "      <td>7.0</td>\n",
       "      <td>0.0</td>\n",
       "      <td>...</td>\n",
       "      <td>0.385965</td>\n",
       "      <td>0.136364</td>\n",
       "      <td>0.80</td>\n",
       "      <td>-0.600</td>\n",
       "      <td>-0.166667</td>\n",
       "      <td>0.000000</td>\n",
       "      <td>0.000000</td>\n",
       "      <td>0.500000</td>\n",
       "      <td>1200</td>\n",
       "      <td>0</td>\n",
       "    </tr>\n",
       "    <tr>\n",
       "      <th>4</th>\n",
       "      <td>13.0</td>\n",
       "      <td>1072.0</td>\n",
       "      <td>0.415646</td>\n",
       "      <td>19.0</td>\n",
       "      <td>19.0</td>\n",
       "      <td>20.0</td>\n",
       "      <td>0.0</td>\n",
       "      <td>4.682836</td>\n",
       "      <td>7.0</td>\n",
       "      <td>0.0</td>\n",
       "      <td>...</td>\n",
       "      <td>0.411127</td>\n",
       "      <td>0.033333</td>\n",
       "      <td>1.00</td>\n",
       "      <td>-0.500</td>\n",
       "      <td>-0.050000</td>\n",
       "      <td>0.454545</td>\n",
       "      <td>0.136364</td>\n",
       "      <td>0.045455</td>\n",
       "      <td>505</td>\n",
       "      <td>0</td>\n",
       "    </tr>\n",
       "    <tr>\n",
       "      <th>...</th>\n",
       "      <td>...</td>\n",
       "      <td>...</td>\n",
       "      <td>...</td>\n",
       "      <td>...</td>\n",
       "      <td>...</td>\n",
       "      <td>...</td>\n",
       "      <td>...</td>\n",
       "      <td>...</td>\n",
       "      <td>...</td>\n",
       "      <td>...</td>\n",
       "      <td>...</td>\n",
       "      <td>...</td>\n",
       "      <td>...</td>\n",
       "      <td>...</td>\n",
       "      <td>...</td>\n",
       "      <td>...</td>\n",
       "      <td>...</td>\n",
       "      <td>...</td>\n",
       "      <td>...</td>\n",
       "      <td>...</td>\n",
       "      <td>...</td>\n",
       "    </tr>\n",
       "    <tr>\n",
       "      <th>38443</th>\n",
       "      <td>11.0</td>\n",
       "      <td>346.0</td>\n",
       "      <td>0.529052</td>\n",
       "      <td>9.0</td>\n",
       "      <td>7.0</td>\n",
       "      <td>1.0</td>\n",
       "      <td>1.0</td>\n",
       "      <td>4.523121</td>\n",
       "      <td>8.0</td>\n",
       "      <td>0.0</td>\n",
       "      <td>...</td>\n",
       "      <td>0.333791</td>\n",
       "      <td>0.100000</td>\n",
       "      <td>0.75</td>\n",
       "      <td>-0.500</td>\n",
       "      <td>-0.125000</td>\n",
       "      <td>0.100000</td>\n",
       "      <td>0.000000</td>\n",
       "      <td>0.400000</td>\n",
       "      <td>1800</td>\n",
       "      <td>1</td>\n",
       "    </tr>\n",
       "    <tr>\n",
       "      <th>38444</th>\n",
       "      <td>12.0</td>\n",
       "      <td>328.0</td>\n",
       "      <td>0.696296</td>\n",
       "      <td>9.0</td>\n",
       "      <td>7.0</td>\n",
       "      <td>3.0</td>\n",
       "      <td>48.0</td>\n",
       "      <td>4.405488</td>\n",
       "      <td>7.0</td>\n",
       "      <td>0.0</td>\n",
       "      <td>...</td>\n",
       "      <td>0.374825</td>\n",
       "      <td>0.136364</td>\n",
       "      <td>0.70</td>\n",
       "      <td>-0.400</td>\n",
       "      <td>-0.100000</td>\n",
       "      <td>0.300000</td>\n",
       "      <td>1.000000</td>\n",
       "      <td>0.200000</td>\n",
       "      <td>1900</td>\n",
       "      <td>1</td>\n",
       "    </tr>\n",
       "    <tr>\n",
       "      <th>38445</th>\n",
       "      <td>10.0</td>\n",
       "      <td>442.0</td>\n",
       "      <td>0.516355</td>\n",
       "      <td>24.0</td>\n",
       "      <td>1.0</td>\n",
       "      <td>12.0</td>\n",
       "      <td>1.0</td>\n",
       "      <td>5.076923</td>\n",
       "      <td>8.0</td>\n",
       "      <td>0.0</td>\n",
       "      <td>...</td>\n",
       "      <td>0.307273</td>\n",
       "      <td>0.136364</td>\n",
       "      <td>0.50</td>\n",
       "      <td>-0.800</td>\n",
       "      <td>-0.166667</td>\n",
       "      <td>0.454545</td>\n",
       "      <td>0.136364</td>\n",
       "      <td>0.045455</td>\n",
       "      <td>1900</td>\n",
       "      <td>1</td>\n",
       "    </tr>\n",
       "    <tr>\n",
       "      <th>38446</th>\n",
       "      <td>6.0</td>\n",
       "      <td>682.0</td>\n",
       "      <td>0.539493</td>\n",
       "      <td>10.0</td>\n",
       "      <td>1.0</td>\n",
       "      <td>1.0</td>\n",
       "      <td>0.0</td>\n",
       "      <td>4.975073</td>\n",
       "      <td>5.0</td>\n",
       "      <td>0.0</td>\n",
       "      <td>...</td>\n",
       "      <td>0.236851</td>\n",
       "      <td>0.062500</td>\n",
       "      <td>0.50</td>\n",
       "      <td>-0.500</td>\n",
       "      <td>-0.012500</td>\n",
       "      <td>0.000000</td>\n",
       "      <td>0.000000</td>\n",
       "      <td>0.500000</td>\n",
       "      <td>1100</td>\n",
       "      <td>0</td>\n",
       "    </tr>\n",
       "    <tr>\n",
       "      <th>38447</th>\n",
       "      <td>10.0</td>\n",
       "      <td>157.0</td>\n",
       "      <td>0.701987</td>\n",
       "      <td>1.0</td>\n",
       "      <td>1.0</td>\n",
       "      <td>0.0</td>\n",
       "      <td>2.0</td>\n",
       "      <td>4.471338</td>\n",
       "      <td>4.0</td>\n",
       "      <td>0.0</td>\n",
       "      <td>...</td>\n",
       "      <td>0.247338</td>\n",
       "      <td>0.100000</td>\n",
       "      <td>0.50</td>\n",
       "      <td>-0.200</td>\n",
       "      <td>-0.200000</td>\n",
       "      <td>0.333333</td>\n",
       "      <td>0.250000</td>\n",
       "      <td>0.166667</td>\n",
       "      <td>1300</td>\n",
       "      <td>0</td>\n",
       "    </tr>\n",
       "  </tbody>\n",
       "</table>\n",
       "<p>38448 rows × 44 columns</p>\n",
       "</div>"
      ],
      "text/plain": [
       "       num_tokens_title  num_tokens_content  rate_unique_tokens  num_hrefs  \\\n",
       "0                  12.0               219.0            0.663594        4.0   \n",
       "1                   9.0               255.0            0.604743        3.0   \n",
       "2                   9.0               211.0            0.575130        3.0   \n",
       "3                   9.0               531.0            0.503788        9.0   \n",
       "4                  13.0              1072.0            0.415646       19.0   \n",
       "...                 ...                 ...                 ...        ...   \n",
       "38443              11.0               346.0            0.529052        9.0   \n",
       "38444              12.0               328.0            0.696296        9.0   \n",
       "38445              10.0               442.0            0.516355       24.0   \n",
       "38446               6.0               682.0            0.539493       10.0   \n",
       "38447              10.0               157.0            0.701987        1.0   \n",
       "\n",
       "       num_self_hrefs  num_imgs  num_videos  avg_token_length  num_keywords  \\\n",
       "0                 2.0       1.0         0.0          4.680365           5.0   \n",
       "1                 1.0       1.0         0.0          4.913725           4.0   \n",
       "2                 1.0       1.0         0.0          4.393365           6.0   \n",
       "3                 0.0       1.0         0.0          4.404896           7.0   \n",
       "4                19.0      20.0         0.0          4.682836           7.0   \n",
       "...               ...       ...         ...               ...           ...   \n",
       "38443             7.0       1.0         1.0          4.523121           8.0   \n",
       "38444             7.0       3.0        48.0          4.405488           7.0   \n",
       "38445             1.0      12.0         1.0          5.076923           8.0   \n",
       "38446             1.0       1.0         0.0          4.975073           5.0   \n",
       "38447             1.0       0.0         2.0          4.471338           4.0   \n",
       "\n",
       "       data_channel_is_lifestyle  ...  avg_positive_polarity  \\\n",
       "0                            0.0  ...               0.378636   \n",
       "1                            0.0  ...               0.286915   \n",
       "2                            0.0  ...               0.495833   \n",
       "3                            0.0  ...               0.385965   \n",
       "4                            0.0  ...               0.411127   \n",
       "...                          ...  ...                    ...   \n",
       "38443                        0.0  ...               0.333791   \n",
       "38444                        0.0  ...               0.374825   \n",
       "38445                        0.0  ...               0.307273   \n",
       "38446                        0.0  ...               0.236851   \n",
       "38447                        0.0  ...               0.247338   \n",
       "\n",
       "       min_positive_polarity  max_positive_polarity  min_negative_polarity  \\\n",
       "0                   0.100000                   0.70                 -0.600   \n",
       "1                   0.033333                   0.70                 -0.125   \n",
       "2                   0.100000                   1.00                 -0.800   \n",
       "3                   0.136364                   0.80                 -0.600   \n",
       "4                   0.033333                   1.00                 -0.500   \n",
       "...                      ...                    ...                    ...   \n",
       "38443               0.100000                   0.75                 -0.500   \n",
       "38444               0.136364                   0.70                 -0.400   \n",
       "38445               0.136364                   0.50                 -0.800   \n",
       "38446               0.062500                   0.50                 -0.500   \n",
       "38447               0.100000                   0.50                 -0.200   \n",
       "\n",
       "       max_negative_polarity  title_subjectivity  title_polarity  \\\n",
       "0                  -0.200000            0.500000       -0.187500   \n",
       "1                  -0.100000            0.000000        0.000000   \n",
       "2                  -0.133333            0.000000        0.000000   \n",
       "3                  -0.166667            0.000000        0.000000   \n",
       "4                  -0.050000            0.454545        0.136364   \n",
       "...                      ...                 ...             ...   \n",
       "38443              -0.125000            0.100000        0.000000   \n",
       "38444              -0.100000            0.300000        1.000000   \n",
       "38445              -0.166667            0.454545        0.136364   \n",
       "38446              -0.012500            0.000000        0.000000   \n",
       "38447              -0.200000            0.333333        0.250000   \n",
       "\n",
       "       abs_title_subjectivity  shares  cl_shares  \n",
       "0                    0.000000     593          0  \n",
       "1                    0.500000     711          0  \n",
       "2                    0.500000    1500          1  \n",
       "3                    0.500000    1200          0  \n",
       "4                    0.045455     505          0  \n",
       "...                       ...     ...        ...  \n",
       "38443                0.400000    1800          1  \n",
       "38444                0.200000    1900          1  \n",
       "38445                0.045455    1900          1  \n",
       "38446                0.500000    1100          0  \n",
       "38447                0.166667    1300          0  \n",
       "\n",
       "[38448 rows x 44 columns]"
      ]
     },
     "execution_count": 5,
     "metadata": {},
     "output_type": "execute_result"
    }
   ],
   "source": [
    "cl_data"
   ]
  },
  {
   "cell_type": "markdown",
   "id": "desperate-southwest",
   "metadata": {},
   "source": [
    "# Classification modeling"
   ]
  },
  {
   "cell_type": "markdown",
   "id": "average-reggae",
   "metadata": {},
   "source": [
    "Classification models:\n",
    "- Logistic regression\n",
    "- Ridge regression\n",
    "- Random forest\n",
    "- Decision Tree\n",
    "- K-nearest neighbors\n",
    "- Stochastic Gradient Boosting\n",
    "- Multi-layer Perceptron"
   ]
  },
  {
   "cell_type": "code",
   "execution_count": 6,
   "id": "friendly-footwear",
   "metadata": {},
   "outputs": [
    {
     "data": {
      "text/html": [
       "<div>\n",
       "<style scoped>\n",
       "    .dataframe tbody tr th:only-of-type {\n",
       "        vertical-align: middle;\n",
       "    }\n",
       "\n",
       "    .dataframe tbody tr th {\n",
       "        vertical-align: top;\n",
       "    }\n",
       "\n",
       "    .dataframe thead th {\n",
       "        text-align: right;\n",
       "    }\n",
       "</style>\n",
       "<table border=\"1\" class=\"dataframe\">\n",
       "  <thead>\n",
       "    <tr style=\"text-align: right;\">\n",
       "      <th></th>\n",
       "      <th>num_tokens_title</th>\n",
       "      <th>num_tokens_content</th>\n",
       "      <th>rate_unique_tokens</th>\n",
       "      <th>num_hrefs</th>\n",
       "      <th>num_self_hrefs</th>\n",
       "      <th>num_imgs</th>\n",
       "      <th>num_videos</th>\n",
       "      <th>avg_token_length</th>\n",
       "      <th>num_keywords</th>\n",
       "      <th>data_channel_is_lifestyle</th>\n",
       "      <th>...</th>\n",
       "      <th>avg_positive_polarity</th>\n",
       "      <th>min_positive_polarity</th>\n",
       "      <th>max_positive_polarity</th>\n",
       "      <th>min_negative_polarity</th>\n",
       "      <th>max_negative_polarity</th>\n",
       "      <th>title_subjectivity</th>\n",
       "      <th>title_polarity</th>\n",
       "      <th>abs_title_subjectivity</th>\n",
       "      <th>shares</th>\n",
       "      <th>cl_shares</th>\n",
       "    </tr>\n",
       "  </thead>\n",
       "  <tbody>\n",
       "    <tr>\n",
       "      <th>0</th>\n",
       "      <td>12.0</td>\n",
       "      <td>219.0</td>\n",
       "      <td>0.663594</td>\n",
       "      <td>4.0</td>\n",
       "      <td>2.0</td>\n",
       "      <td>1.0</td>\n",
       "      <td>0.0</td>\n",
       "      <td>4.680365</td>\n",
       "      <td>5.0</td>\n",
       "      <td>0.0</td>\n",
       "      <td>...</td>\n",
       "      <td>0.378636</td>\n",
       "      <td>0.100000</td>\n",
       "      <td>0.7</td>\n",
       "      <td>-0.600</td>\n",
       "      <td>-0.200000</td>\n",
       "      <td>0.500000</td>\n",
       "      <td>-0.187500</td>\n",
       "      <td>0.000000</td>\n",
       "      <td>593</td>\n",
       "      <td>0</td>\n",
       "    </tr>\n",
       "    <tr>\n",
       "      <th>1</th>\n",
       "      <td>9.0</td>\n",
       "      <td>255.0</td>\n",
       "      <td>0.604743</td>\n",
       "      <td>3.0</td>\n",
       "      <td>1.0</td>\n",
       "      <td>1.0</td>\n",
       "      <td>0.0</td>\n",
       "      <td>4.913725</td>\n",
       "      <td>4.0</td>\n",
       "      <td>0.0</td>\n",
       "      <td>...</td>\n",
       "      <td>0.286915</td>\n",
       "      <td>0.033333</td>\n",
       "      <td>0.7</td>\n",
       "      <td>-0.125</td>\n",
       "      <td>-0.100000</td>\n",
       "      <td>0.000000</td>\n",
       "      <td>0.000000</td>\n",
       "      <td>0.500000</td>\n",
       "      <td>711</td>\n",
       "      <td>0</td>\n",
       "    </tr>\n",
       "    <tr>\n",
       "      <th>2</th>\n",
       "      <td>9.0</td>\n",
       "      <td>211.0</td>\n",
       "      <td>0.575130</td>\n",
       "      <td>3.0</td>\n",
       "      <td>1.0</td>\n",
       "      <td>1.0</td>\n",
       "      <td>0.0</td>\n",
       "      <td>4.393365</td>\n",
       "      <td>6.0</td>\n",
       "      <td>0.0</td>\n",
       "      <td>...</td>\n",
       "      <td>0.495833</td>\n",
       "      <td>0.100000</td>\n",
       "      <td>1.0</td>\n",
       "      <td>-0.800</td>\n",
       "      <td>-0.133333</td>\n",
       "      <td>0.000000</td>\n",
       "      <td>0.000000</td>\n",
       "      <td>0.500000</td>\n",
       "      <td>1500</td>\n",
       "      <td>1</td>\n",
       "    </tr>\n",
       "    <tr>\n",
       "      <th>3</th>\n",
       "      <td>9.0</td>\n",
       "      <td>531.0</td>\n",
       "      <td>0.503788</td>\n",
       "      <td>9.0</td>\n",
       "      <td>0.0</td>\n",
       "      <td>1.0</td>\n",
       "      <td>0.0</td>\n",
       "      <td>4.404896</td>\n",
       "      <td>7.0</td>\n",
       "      <td>0.0</td>\n",
       "      <td>...</td>\n",
       "      <td>0.385965</td>\n",
       "      <td>0.136364</td>\n",
       "      <td>0.8</td>\n",
       "      <td>-0.600</td>\n",
       "      <td>-0.166667</td>\n",
       "      <td>0.000000</td>\n",
       "      <td>0.000000</td>\n",
       "      <td>0.500000</td>\n",
       "      <td>1200</td>\n",
       "      <td>0</td>\n",
       "    </tr>\n",
       "    <tr>\n",
       "      <th>4</th>\n",
       "      <td>13.0</td>\n",
       "      <td>1072.0</td>\n",
       "      <td>0.415646</td>\n",
       "      <td>19.0</td>\n",
       "      <td>19.0</td>\n",
       "      <td>20.0</td>\n",
       "      <td>0.0</td>\n",
       "      <td>4.682836</td>\n",
       "      <td>7.0</td>\n",
       "      <td>0.0</td>\n",
       "      <td>...</td>\n",
       "      <td>0.411127</td>\n",
       "      <td>0.033333</td>\n",
       "      <td>1.0</td>\n",
       "      <td>-0.500</td>\n",
       "      <td>-0.050000</td>\n",
       "      <td>0.454545</td>\n",
       "      <td>0.136364</td>\n",
       "      <td>0.045455</td>\n",
       "      <td>505</td>\n",
       "      <td>0</td>\n",
       "    </tr>\n",
       "  </tbody>\n",
       "</table>\n",
       "<p>5 rows × 44 columns</p>\n",
       "</div>"
      ],
      "text/plain": [
       "   num_tokens_title  num_tokens_content  rate_unique_tokens  num_hrefs  \\\n",
       "0              12.0               219.0            0.663594        4.0   \n",
       "1               9.0               255.0            0.604743        3.0   \n",
       "2               9.0               211.0            0.575130        3.0   \n",
       "3               9.0               531.0            0.503788        9.0   \n",
       "4              13.0              1072.0            0.415646       19.0   \n",
       "\n",
       "   num_self_hrefs  num_imgs  num_videos  avg_token_length  num_keywords  \\\n",
       "0             2.0       1.0         0.0          4.680365           5.0   \n",
       "1             1.0       1.0         0.0          4.913725           4.0   \n",
       "2             1.0       1.0         0.0          4.393365           6.0   \n",
       "3             0.0       1.0         0.0          4.404896           7.0   \n",
       "4            19.0      20.0         0.0          4.682836           7.0   \n",
       "\n",
       "   data_channel_is_lifestyle  ...  avg_positive_polarity  \\\n",
       "0                        0.0  ...               0.378636   \n",
       "1                        0.0  ...               0.286915   \n",
       "2                        0.0  ...               0.495833   \n",
       "3                        0.0  ...               0.385965   \n",
       "4                        0.0  ...               0.411127   \n",
       "\n",
       "   min_positive_polarity  max_positive_polarity  min_negative_polarity  \\\n",
       "0               0.100000                    0.7                 -0.600   \n",
       "1               0.033333                    0.7                 -0.125   \n",
       "2               0.100000                    1.0                 -0.800   \n",
       "3               0.136364                    0.8                 -0.600   \n",
       "4               0.033333                    1.0                 -0.500   \n",
       "\n",
       "   max_negative_polarity  title_subjectivity  title_polarity  \\\n",
       "0              -0.200000            0.500000       -0.187500   \n",
       "1              -0.100000            0.000000        0.000000   \n",
       "2              -0.133333            0.000000        0.000000   \n",
       "3              -0.166667            0.000000        0.000000   \n",
       "4              -0.050000            0.454545        0.136364   \n",
       "\n",
       "   abs_title_subjectivity  shares  cl_shares  \n",
       "0                0.000000     593          0  \n",
       "1                0.500000     711          0  \n",
       "2                0.500000    1500          1  \n",
       "3                0.500000    1200          0  \n",
       "4                0.045455     505          0  \n",
       "\n",
       "[5 rows x 44 columns]"
      ]
     },
     "execution_count": 6,
     "metadata": {},
     "output_type": "execute_result"
    }
   ],
   "source": [
    "cl_data.head()"
   ]
  },
  {
   "cell_type": "code",
   "execution_count": 7,
   "id": "worst-damage",
   "metadata": {},
   "outputs": [
    {
     "data": {
      "text/html": [
       "<div>\n",
       "<style scoped>\n",
       "    .dataframe tbody tr th:only-of-type {\n",
       "        vertical-align: middle;\n",
       "    }\n",
       "\n",
       "    .dataframe tbody tr th {\n",
       "        vertical-align: top;\n",
       "    }\n",
       "\n",
       "    .dataframe thead th {\n",
       "        text-align: right;\n",
       "    }\n",
       "</style>\n",
       "<table border=\"1\" class=\"dataframe\">\n",
       "  <thead>\n",
       "    <tr style=\"text-align: right;\">\n",
       "      <th></th>\n",
       "      <th>num_tokens_title</th>\n",
       "      <th>num_tokens_content</th>\n",
       "      <th>rate_unique_tokens</th>\n",
       "      <th>num_hrefs</th>\n",
       "      <th>num_self_hrefs</th>\n",
       "      <th>num_imgs</th>\n",
       "      <th>num_videos</th>\n",
       "      <th>avg_token_length</th>\n",
       "      <th>num_keywords</th>\n",
       "      <th>data_channel_is_lifestyle</th>\n",
       "      <th>...</th>\n",
       "      <th>global_rate_negative_words</th>\n",
       "      <th>rate_positive_words</th>\n",
       "      <th>avg_positive_polarity</th>\n",
       "      <th>min_positive_polarity</th>\n",
       "      <th>max_positive_polarity</th>\n",
       "      <th>min_negative_polarity</th>\n",
       "      <th>max_negative_polarity</th>\n",
       "      <th>title_subjectivity</th>\n",
       "      <th>title_polarity</th>\n",
       "      <th>abs_title_subjectivity</th>\n",
       "    </tr>\n",
       "  </thead>\n",
       "  <tbody>\n",
       "    <tr>\n",
       "      <th>0</th>\n",
       "      <td>12.0</td>\n",
       "      <td>219.0</td>\n",
       "      <td>0.663594</td>\n",
       "      <td>4.0</td>\n",
       "      <td>2.0</td>\n",
       "      <td>1.0</td>\n",
       "      <td>0.0</td>\n",
       "      <td>4.680365</td>\n",
       "      <td>5.0</td>\n",
       "      <td>0.0</td>\n",
       "      <td>...</td>\n",
       "      <td>0.013699</td>\n",
       "      <td>0.769231</td>\n",
       "      <td>0.378636</td>\n",
       "      <td>0.100000</td>\n",
       "      <td>0.70</td>\n",
       "      <td>-0.600</td>\n",
       "      <td>-0.200000</td>\n",
       "      <td>0.500000</td>\n",
       "      <td>-0.187500</td>\n",
       "      <td>0.000000</td>\n",
       "    </tr>\n",
       "    <tr>\n",
       "      <th>1</th>\n",
       "      <td>9.0</td>\n",
       "      <td>255.0</td>\n",
       "      <td>0.604743</td>\n",
       "      <td>3.0</td>\n",
       "      <td>1.0</td>\n",
       "      <td>1.0</td>\n",
       "      <td>0.0</td>\n",
       "      <td>4.913725</td>\n",
       "      <td>4.0</td>\n",
       "      <td>0.0</td>\n",
       "      <td>...</td>\n",
       "      <td>0.015686</td>\n",
       "      <td>0.733333</td>\n",
       "      <td>0.286915</td>\n",
       "      <td>0.033333</td>\n",
       "      <td>0.70</td>\n",
       "      <td>-0.125</td>\n",
       "      <td>-0.100000</td>\n",
       "      <td>0.000000</td>\n",
       "      <td>0.000000</td>\n",
       "      <td>0.500000</td>\n",
       "    </tr>\n",
       "    <tr>\n",
       "      <th>2</th>\n",
       "      <td>9.0</td>\n",
       "      <td>211.0</td>\n",
       "      <td>0.575130</td>\n",
       "      <td>3.0</td>\n",
       "      <td>1.0</td>\n",
       "      <td>1.0</td>\n",
       "      <td>0.0</td>\n",
       "      <td>4.393365</td>\n",
       "      <td>6.0</td>\n",
       "      <td>0.0</td>\n",
       "      <td>...</td>\n",
       "      <td>0.009479</td>\n",
       "      <td>0.857143</td>\n",
       "      <td>0.495833</td>\n",
       "      <td>0.100000</td>\n",
       "      <td>1.00</td>\n",
       "      <td>-0.800</td>\n",
       "      <td>-0.133333</td>\n",
       "      <td>0.000000</td>\n",
       "      <td>0.000000</td>\n",
       "      <td>0.500000</td>\n",
       "    </tr>\n",
       "    <tr>\n",
       "      <th>3</th>\n",
       "      <td>9.0</td>\n",
       "      <td>531.0</td>\n",
       "      <td>0.503788</td>\n",
       "      <td>9.0</td>\n",
       "      <td>0.0</td>\n",
       "      <td>1.0</td>\n",
       "      <td>0.0</td>\n",
       "      <td>4.404896</td>\n",
       "      <td>7.0</td>\n",
       "      <td>0.0</td>\n",
       "      <td>...</td>\n",
       "      <td>0.020716</td>\n",
       "      <td>0.666667</td>\n",
       "      <td>0.385965</td>\n",
       "      <td>0.136364</td>\n",
       "      <td>0.80</td>\n",
       "      <td>-0.600</td>\n",
       "      <td>-0.166667</td>\n",
       "      <td>0.000000</td>\n",
       "      <td>0.000000</td>\n",
       "      <td>0.500000</td>\n",
       "    </tr>\n",
       "    <tr>\n",
       "      <th>4</th>\n",
       "      <td>13.0</td>\n",
       "      <td>1072.0</td>\n",
       "      <td>0.415646</td>\n",
       "      <td>19.0</td>\n",
       "      <td>19.0</td>\n",
       "      <td>20.0</td>\n",
       "      <td>0.0</td>\n",
       "      <td>4.682836</td>\n",
       "      <td>7.0</td>\n",
       "      <td>0.0</td>\n",
       "      <td>...</td>\n",
       "      <td>0.012127</td>\n",
       "      <td>0.860215</td>\n",
       "      <td>0.411127</td>\n",
       "      <td>0.033333</td>\n",
       "      <td>1.00</td>\n",
       "      <td>-0.500</td>\n",
       "      <td>-0.050000</td>\n",
       "      <td>0.454545</td>\n",
       "      <td>0.136364</td>\n",
       "      <td>0.045455</td>\n",
       "    </tr>\n",
       "    <tr>\n",
       "      <th>...</th>\n",
       "      <td>...</td>\n",
       "      <td>...</td>\n",
       "      <td>...</td>\n",
       "      <td>...</td>\n",
       "      <td>...</td>\n",
       "      <td>...</td>\n",
       "      <td>...</td>\n",
       "      <td>...</td>\n",
       "      <td>...</td>\n",
       "      <td>...</td>\n",
       "      <td>...</td>\n",
       "      <td>...</td>\n",
       "      <td>...</td>\n",
       "      <td>...</td>\n",
       "      <td>...</td>\n",
       "      <td>...</td>\n",
       "      <td>...</td>\n",
       "      <td>...</td>\n",
       "      <td>...</td>\n",
       "      <td>...</td>\n",
       "      <td>...</td>\n",
       "    </tr>\n",
       "    <tr>\n",
       "      <th>38443</th>\n",
       "      <td>11.0</td>\n",
       "      <td>346.0</td>\n",
       "      <td>0.529052</td>\n",
       "      <td>9.0</td>\n",
       "      <td>7.0</td>\n",
       "      <td>1.0</td>\n",
       "      <td>1.0</td>\n",
       "      <td>4.523121</td>\n",
       "      <td>8.0</td>\n",
       "      <td>0.0</td>\n",
       "      <td>...</td>\n",
       "      <td>0.014451</td>\n",
       "      <td>0.722222</td>\n",
       "      <td>0.333791</td>\n",
       "      <td>0.100000</td>\n",
       "      <td>0.75</td>\n",
       "      <td>-0.500</td>\n",
       "      <td>-0.125000</td>\n",
       "      <td>0.100000</td>\n",
       "      <td>0.000000</td>\n",
       "      <td>0.400000</td>\n",
       "    </tr>\n",
       "    <tr>\n",
       "      <th>38444</th>\n",
       "      <td>12.0</td>\n",
       "      <td>328.0</td>\n",
       "      <td>0.696296</td>\n",
       "      <td>9.0</td>\n",
       "      <td>7.0</td>\n",
       "      <td>3.0</td>\n",
       "      <td>48.0</td>\n",
       "      <td>4.405488</td>\n",
       "      <td>7.0</td>\n",
       "      <td>0.0</td>\n",
       "      <td>...</td>\n",
       "      <td>0.009146</td>\n",
       "      <td>0.812500</td>\n",
       "      <td>0.374825</td>\n",
       "      <td>0.136364</td>\n",
       "      <td>0.70</td>\n",
       "      <td>-0.400</td>\n",
       "      <td>-0.100000</td>\n",
       "      <td>0.300000</td>\n",
       "      <td>1.000000</td>\n",
       "      <td>0.200000</td>\n",
       "    </tr>\n",
       "    <tr>\n",
       "      <th>38445</th>\n",
       "      <td>10.0</td>\n",
       "      <td>442.0</td>\n",
       "      <td>0.516355</td>\n",
       "      <td>24.0</td>\n",
       "      <td>1.0</td>\n",
       "      <td>12.0</td>\n",
       "      <td>1.0</td>\n",
       "      <td>5.076923</td>\n",
       "      <td>8.0</td>\n",
       "      <td>0.0</td>\n",
       "      <td>...</td>\n",
       "      <td>0.024887</td>\n",
       "      <td>0.576923</td>\n",
       "      <td>0.307273</td>\n",
       "      <td>0.136364</td>\n",
       "      <td>0.50</td>\n",
       "      <td>-0.800</td>\n",
       "      <td>-0.166667</td>\n",
       "      <td>0.454545</td>\n",
       "      <td>0.136364</td>\n",
       "      <td>0.045455</td>\n",
       "    </tr>\n",
       "    <tr>\n",
       "      <th>38446</th>\n",
       "      <td>6.0</td>\n",
       "      <td>682.0</td>\n",
       "      <td>0.539493</td>\n",
       "      <td>10.0</td>\n",
       "      <td>1.0</td>\n",
       "      <td>1.0</td>\n",
       "      <td>0.0</td>\n",
       "      <td>4.975073</td>\n",
       "      <td>5.0</td>\n",
       "      <td>0.0</td>\n",
       "      <td>...</td>\n",
       "      <td>0.023460</td>\n",
       "      <td>0.466667</td>\n",
       "      <td>0.236851</td>\n",
       "      <td>0.062500</td>\n",
       "      <td>0.50</td>\n",
       "      <td>-0.500</td>\n",
       "      <td>-0.012500</td>\n",
       "      <td>0.000000</td>\n",
       "      <td>0.000000</td>\n",
       "      <td>0.500000</td>\n",
       "    </tr>\n",
       "    <tr>\n",
       "      <th>38447</th>\n",
       "      <td>10.0</td>\n",
       "      <td>157.0</td>\n",
       "      <td>0.701987</td>\n",
       "      <td>1.0</td>\n",
       "      <td>1.0</td>\n",
       "      <td>0.0</td>\n",
       "      <td>2.0</td>\n",
       "      <td>4.471338</td>\n",
       "      <td>4.0</td>\n",
       "      <td>0.0</td>\n",
       "      <td>...</td>\n",
       "      <td>0.012739</td>\n",
       "      <td>0.833333</td>\n",
       "      <td>0.247338</td>\n",
       "      <td>0.100000</td>\n",
       "      <td>0.50</td>\n",
       "      <td>-0.200</td>\n",
       "      <td>-0.200000</td>\n",
       "      <td>0.333333</td>\n",
       "      <td>0.250000</td>\n",
       "      <td>0.166667</td>\n",
       "    </tr>\n",
       "  </tbody>\n",
       "</table>\n",
       "<p>38448 rows × 42 columns</p>\n",
       "</div>"
      ],
      "text/plain": [
       "       num_tokens_title  num_tokens_content  rate_unique_tokens  num_hrefs  \\\n",
       "0                  12.0               219.0            0.663594        4.0   \n",
       "1                   9.0               255.0            0.604743        3.0   \n",
       "2                   9.0               211.0            0.575130        3.0   \n",
       "3                   9.0               531.0            0.503788        9.0   \n",
       "4                  13.0              1072.0            0.415646       19.0   \n",
       "...                 ...                 ...                 ...        ...   \n",
       "38443              11.0               346.0            0.529052        9.0   \n",
       "38444              12.0               328.0            0.696296        9.0   \n",
       "38445              10.0               442.0            0.516355       24.0   \n",
       "38446               6.0               682.0            0.539493       10.0   \n",
       "38447              10.0               157.0            0.701987        1.0   \n",
       "\n",
       "       num_self_hrefs  num_imgs  num_videos  avg_token_length  num_keywords  \\\n",
       "0                 2.0       1.0         0.0          4.680365           5.0   \n",
       "1                 1.0       1.0         0.0          4.913725           4.0   \n",
       "2                 1.0       1.0         0.0          4.393365           6.0   \n",
       "3                 0.0       1.0         0.0          4.404896           7.0   \n",
       "4                19.0      20.0         0.0          4.682836           7.0   \n",
       "...               ...       ...         ...               ...           ...   \n",
       "38443             7.0       1.0         1.0          4.523121           8.0   \n",
       "38444             7.0       3.0        48.0          4.405488           7.0   \n",
       "38445             1.0      12.0         1.0          5.076923           8.0   \n",
       "38446             1.0       1.0         0.0          4.975073           5.0   \n",
       "38447             1.0       0.0         2.0          4.471338           4.0   \n",
       "\n",
       "       data_channel_is_lifestyle  ...  global_rate_negative_words  \\\n",
       "0                            0.0  ...                    0.013699   \n",
       "1                            0.0  ...                    0.015686   \n",
       "2                            0.0  ...                    0.009479   \n",
       "3                            0.0  ...                    0.020716   \n",
       "4                            0.0  ...                    0.012127   \n",
       "...                          ...  ...                         ...   \n",
       "38443                        0.0  ...                    0.014451   \n",
       "38444                        0.0  ...                    0.009146   \n",
       "38445                        0.0  ...                    0.024887   \n",
       "38446                        0.0  ...                    0.023460   \n",
       "38447                        0.0  ...                    0.012739   \n",
       "\n",
       "       rate_positive_words  avg_positive_polarity  min_positive_polarity  \\\n",
       "0                 0.769231               0.378636               0.100000   \n",
       "1                 0.733333               0.286915               0.033333   \n",
       "2                 0.857143               0.495833               0.100000   \n",
       "3                 0.666667               0.385965               0.136364   \n",
       "4                 0.860215               0.411127               0.033333   \n",
       "...                    ...                    ...                    ...   \n",
       "38443             0.722222               0.333791               0.100000   \n",
       "38444             0.812500               0.374825               0.136364   \n",
       "38445             0.576923               0.307273               0.136364   \n",
       "38446             0.466667               0.236851               0.062500   \n",
       "38447             0.833333               0.247338               0.100000   \n",
       "\n",
       "       max_positive_polarity  min_negative_polarity  max_negative_polarity  \\\n",
       "0                       0.70                 -0.600              -0.200000   \n",
       "1                       0.70                 -0.125              -0.100000   \n",
       "2                       1.00                 -0.800              -0.133333   \n",
       "3                       0.80                 -0.600              -0.166667   \n",
       "4                       1.00                 -0.500              -0.050000   \n",
       "...                      ...                    ...                    ...   \n",
       "38443                   0.75                 -0.500              -0.125000   \n",
       "38444                   0.70                 -0.400              -0.100000   \n",
       "38445                   0.50                 -0.800              -0.166667   \n",
       "38446                   0.50                 -0.500              -0.012500   \n",
       "38447                   0.50                 -0.200              -0.200000   \n",
       "\n",
       "       title_subjectivity  title_polarity  abs_title_subjectivity  \n",
       "0                0.500000       -0.187500                0.000000  \n",
       "1                0.000000        0.000000                0.500000  \n",
       "2                0.000000        0.000000                0.500000  \n",
       "3                0.000000        0.000000                0.500000  \n",
       "4                0.454545        0.136364                0.045455  \n",
       "...                   ...             ...                     ...  \n",
       "38443            0.100000        0.000000                0.400000  \n",
       "38444            0.300000        1.000000                0.200000  \n",
       "38445            0.454545        0.136364                0.045455  \n",
       "38446            0.000000        0.000000                0.500000  \n",
       "38447            0.333333        0.250000                0.166667  \n",
       "\n",
       "[38448 rows x 42 columns]"
      ]
     },
     "execution_count": 7,
     "metadata": {},
     "output_type": "execute_result"
    }
   ],
   "source": [
    "X = cl_data.iloc[:, :42]\n",
    "X"
   ]
  },
  {
   "cell_type": "code",
   "execution_count": 8,
   "id": "functional-incentive",
   "metadata": {},
   "outputs": [
    {
     "data": {
      "text/plain": [
       "0        0\n",
       "1        0\n",
       "2        1\n",
       "3        0\n",
       "4        0\n",
       "        ..\n",
       "38443    1\n",
       "38444    1\n",
       "38445    1\n",
       "38446    0\n",
       "38447    0\n",
       "Name: cl_shares, Length: 38448, dtype: int64"
      ]
     },
     "execution_count": 8,
     "metadata": {},
     "output_type": "execute_result"
    }
   ],
   "source": [
    "y = cl_data.cl_shares\n",
    "y"
   ]
  },
  {
   "cell_type": "code",
   "execution_count": 9,
   "id": "extended-legislature",
   "metadata": {},
   "outputs": [],
   "source": [
    "X_train,X_test,y_train,y_test = train_test_split(X,y,stratify=y,test_size = 0.3)"
   ]
  },
  {
   "cell_type": "code",
   "execution_count": 10,
   "id": "aware-latitude",
   "metadata": {},
   "outputs": [
    {
     "data": {
      "text/plain": [
       "(26913, 42)"
      ]
     },
     "execution_count": 10,
     "metadata": {},
     "output_type": "execute_result"
    }
   ],
   "source": [
    "X_train.shape"
   ]
  },
  {
   "cell_type": "code",
   "execution_count": 11,
   "id": "western-retailer",
   "metadata": {},
   "outputs": [
    {
     "data": {
      "text/plain": [
       "(11535, 42)"
      ]
     },
     "execution_count": 11,
     "metadata": {},
     "output_type": "execute_result"
    }
   ],
   "source": [
    "X_test.shape"
   ]
  },
  {
   "cell_type": "code",
   "execution_count": 12,
   "id": "suburban-initial",
   "metadata": {},
   "outputs": [
    {
     "data": {
      "text/plain": [
       "(26913,)"
      ]
     },
     "execution_count": 12,
     "metadata": {},
     "output_type": "execute_result"
    }
   ],
   "source": [
    "y_train.shape"
   ]
  },
  {
   "cell_type": "code",
   "execution_count": 13,
   "id": "helpful-reform",
   "metadata": {},
   "outputs": [
    {
     "data": {
      "text/plain": [
       "(11535,)"
      ]
     },
     "execution_count": 13,
     "metadata": {},
     "output_type": "execute_result"
    }
   ],
   "source": [
    "y_test.shape"
   ]
  },
  {
   "cell_type": "markdown",
   "id": "filled-inclusion",
   "metadata": {},
   "source": [
    "## Confusion matrix"
   ]
  },
  {
   "cell_type": "code",
   "execution_count": 21,
   "id": "early-married",
   "metadata": {},
   "outputs": [],
   "source": [
    "def print_conf_matrix(algorithm, y_test, y_pred):\n",
    "    tn, fp, fn, tp = confusion_matrix(y_test, y_pred).ravel()\n",
    "    cm = np.array([[tp, fp], [fn, tn]])\n",
    "    fig, ax = plt.subplots(figsize=(8, 8))\n",
    "    ax.imshow(cm, cmap=\"Greys\", alpha=0.2)\n",
    "    ax.xaxis.tick_top()\n",
    "    ax.xaxis.set(ticks=(0, 1), ticklabels=('Popular', 'Unpopular'))\n",
    "    ax.yaxis.set(ticks=(0, 1), ticklabels=('Popular', 'Unpopular'))\n",
    "    plt.xticks(fontsize=14)\n",
    "    plt.yticks(fontsize=14)\n",
    "    ax.text(0, 0, cm[0, 0], ha='center', va='center', color='green', fontsize=22)\n",
    "    ax.text(1, 0, cm[0, 1], ha='center', va='center', color='green', fontsize=22)\n",
    "    ax.text(0, 1, cm[1, 0], ha='center', va='center', color='green', fontsize=22)\n",
    "    ax.text(1, 1, cm[1, 1], ha='center', va='center', color='green', fontsize=22)\n",
    "    plt.title(f\"{algorithm} confusion matrix\", fontsize=20, fontweight='bold', pad=20)\n",
    "    plt.savefig(f'conf_{algorithm}.png', dpi=250)\n",
    "    plt.show()"
   ]
  },
  {
   "cell_type": "markdown",
   "id": "active-cloud",
   "metadata": {},
   "source": [
    "## Feature importances"
   ]
  },
  {
   "cell_type": "code",
   "execution_count": 15,
   "id": "informal-screw",
   "metadata": {},
   "outputs": [],
   "source": [
    "def feature_importances(algorithm, column_list, fit_data):\n",
    "    all_features = fit_data.best_estimator_.feature_importances_\n",
    "    dict_importance = {}\n",
    "    for f, item in zip(column_list, all_features):\n",
    "        dict_importance[f] = item\n",
    "    # Sort values\n",
    "    dict_importance = {k: val for k, val in sorted(dict_importance.items(), key=lambda item: item[1], reverse=True)}\n",
    "\n",
    "    importance_df = pd.DataFrame(dict_importance.items(), columns=['Feature', 'Gini-importance'])\n",
    "    plt.figure(figsize=(12,8), facecolor='w', edgecolor='k')\n",
    "    sns.barplot(x=\"Gini-importance\", y=\"Feature\", data=importance_df)\n",
    "    \n",
    "    plt.xlabel('Importance', fontsize=14, fontweight='bold')\n",
    "    plt.ylabel('Features', fontsize=14, fontweight='bold')\n",
    "    plt.title(f\"{algorithm} feature importance\", fontsize=18, fontweight='bold', pad=20)\n",
    "    plt.tight_layout()\n",
    "    plt.savefig(f'feature_imp_{algorithm}.png', dpi=250)\n",
    "    plt.show()"
   ]
  },
  {
   "cell_type": "markdown",
   "id": "indie-saver",
   "metadata": {},
   "source": [
    "## Modeling timer"
   ]
  },
  {
   "cell_type": "code",
   "execution_count": 16,
   "id": "moral-transformation",
   "metadata": {},
   "outputs": [],
   "source": [
    "def check_time(algorithm, estimator):\n",
    "    if algorithm_timer:\n",
    "        start_time = time.time()\n",
    "        fit_estimator = estimator.fit(X_train, y_train)\n",
    "        fit_estimator.predict(X_test)\n",
    "        print(f\"\\nTime for {algorithm} bulding best estimator (in seconds): {(time.time() - start_time)}\")"
   ]
  },
  {
   "cell_type": "markdown",
   "id": "ambient-forum",
   "metadata": {},
   "source": [
    "## Logistic regression"
   ]
  },
  {
   "cell_type": "markdown",
   "id": "dental-newark",
   "metadata": {},
   "source": [
    "### Baseline"
   ]
  },
  {
   "cell_type": "code",
   "execution_count": 94,
   "id": "flying-theme",
   "metadata": {},
   "outputs": [
    {
     "name": "stdout",
     "output_type": "stream",
     "text": [
      "Score mean:  0.5919426380651873\n"
     ]
    }
   ],
   "source": [
    "log_reg = LogisticRegression(max_iter=300)\n",
    "score_log_reg = cross_val_score(log_reg, X, y, cv=5)\n",
    "print(\"Score mean: \", score_log_reg.mean())"
   ]
  },
  {
   "cell_type": "code",
   "execution_count": 95,
   "id": "collective-halloween",
   "metadata": {},
   "outputs": [
    {
     "name": "stdout",
     "output_type": "stream",
     "text": [
      "Classification report:\n",
      "\n",
      "               precision    recall  f1-score   support\n",
      "\n",
      "           0       0.59      0.68      0.63     19544\n",
      "           1       0.60      0.50      0.55     18904\n",
      "\n",
      "    accuracy                           0.59     38448\n",
      "   macro avg       0.59      0.59      0.59     38448\n",
      "weighted avg       0.59      0.59      0.59     38448\n",
      "\n"
     ]
    }
   ],
   "source": [
    "y_pred_log = cross_val_predict(log_reg, X, y, cv=5)\n",
    "print(\"Classification report:\\n\\n\", classification_report(y, y_pred_log))"
   ]
  },
  {
   "cell_type": "markdown",
   "id": "realistic-worst",
   "metadata": {},
   "source": [
    "### Logistic regression with Scalers"
   ]
  },
  {
   "cell_type": "code",
   "execution_count": 96,
   "id": "gorgeous-welding",
   "metadata": {},
   "outputs": [
    {
     "name": "stdout",
     "output_type": "stream",
     "text": [
      "Score mean:  0.6274986728038181\n"
     ]
    }
   ],
   "source": [
    "# MinMax\n",
    "log_minmax_pipeline = make_pipeline(MinMaxScaler(), LogisticRegression(max_iter=300))\n",
    "score_log_minmax = cross_val_score(log_minmax_pipeline, X, y, cv=5)\n",
    "print(\"Score mean: \", score_log_minmax.mean())"
   ]
  },
  {
   "cell_type": "code",
   "execution_count": 97,
   "id": "emotional-newton",
   "metadata": {},
   "outputs": [
    {
     "name": "stdout",
     "output_type": "stream",
     "text": [
      "Classification report:\n",
      "\n",
      "               precision    recall  f1-score   support\n",
      "\n",
      "           0       0.65      0.59      0.61     19544\n",
      "           1       0.61      0.67      0.64     18904\n",
      "\n",
      "    accuracy                           0.63     38448\n",
      "   macro avg       0.63      0.63      0.63     38448\n",
      "weighted avg       0.63      0.63      0.63     38448\n",
      "\n"
     ]
    }
   ],
   "source": [
    "y_pred_log_minmax = cross_val_predict(log_minmax_pipeline, X, y, cv=5)\n",
    "print(\"Classification report:\\n\\n\", classification_report(y, y_pred_log_minmax))"
   ]
  },
  {
   "cell_type": "code",
   "execution_count": 98,
   "id": "three-diabetes",
   "metadata": {},
   "outputs": [
    {
     "name": "stdout",
     "output_type": "stream",
     "text": [
      "Score mean:  0.6204767217653917\n"
     ]
    }
   ],
   "source": [
    "# RobustScaler\n",
    "log_robust_pipeline = make_pipeline(RobustScaler(), LogisticRegression(max_iter=300))\n",
    "score_log_rob = cross_val_score(log_robust_pipeline, X, y, cv=5)\n",
    "print(\"Score mean: \", score_log_rob.mean())"
   ]
  },
  {
   "cell_type": "code",
   "execution_count": 99,
   "id": "dress-humor",
   "metadata": {},
   "outputs": [
    {
     "name": "stdout",
     "output_type": "stream",
     "text": [
      "Classification report:\n",
      "\n",
      "               precision    recall  f1-score   support\n",
      "\n",
      "           0       0.64      0.57      0.60     19544\n",
      "           1       0.60      0.68      0.64     18904\n",
      "\n",
      "    accuracy                           0.62     38448\n",
      "   macro avg       0.62      0.62      0.62     38448\n",
      "weighted avg       0.62      0.62      0.62     38448\n",
      "\n"
     ]
    }
   ],
   "source": [
    "y_pred_log_rob = cross_val_predict(log_robust_pipeline, X, y, cv=5)\n",
    "print(\"Classification report:\\n\\n\", classification_report(y, y_pred_log_rob))"
   ]
  },
  {
   "cell_type": "code",
   "execution_count": 100,
   "id": "pleasant-albuquerque",
   "metadata": {},
   "outputs": [
    {
     "name": "stdout",
     "output_type": "stream",
     "text": [
      "Score mean:  0.6407110355242092\n"
     ]
    }
   ],
   "source": [
    "# QuantileTransformer\n",
    "log_reg_qt_pipeline = make_pipeline(QuantileTransformer(), LogisticRegression(max_iter=300))\n",
    "score_log_qt = cross_val_score(log_reg_qt_pipeline, X, y, cv=5)\n",
    "print(\"Score mean: \", score_log_qt.mean())"
   ]
  },
  {
   "cell_type": "code",
   "execution_count": 101,
   "id": "effective-lyric",
   "metadata": {},
   "outputs": [
    {
     "name": "stdout",
     "output_type": "stream",
     "text": [
      "Classification report:\n",
      "\n",
      "               precision    recall  f1-score   support\n",
      "\n",
      "           0       0.66      0.61      0.63     19544\n",
      "           1       0.63      0.67      0.65     18904\n",
      "\n",
      "    accuracy                           0.64     38448\n",
      "   macro avg       0.64      0.64      0.64     38448\n",
      "weighted avg       0.64      0.64      0.64     38448\n",
      "\n"
     ]
    }
   ],
   "source": [
    "y_pred_log_qt = cross_val_predict(log_reg_qt_pipeline, X, y, cv=5)\n",
    "print(\"Classification report:\\n\\n\", classification_report(y, y_pred_log_qt))"
   ]
  },
  {
   "cell_type": "markdown",
   "id": "bearing-criticism",
   "metadata": {},
   "source": [
    "Best result had QuantileTransformer scaler"
   ]
  },
  {
   "cell_type": "markdown",
   "id": "operational-portuguese",
   "metadata": {},
   "source": [
    "### Logistic regression with GridSearchCV"
   ]
  },
  {
   "cell_type": "code",
   "execution_count": 18,
   "id": "flying-progress",
   "metadata": {
    "scrolled": true
   },
   "outputs": [],
   "source": [
    "log_grid_pipeline = Pipeline([( \"scaler\", QuantileTransformer(random_state=0)), (\"logreg\", LogisticRegression(random_state=0))])\n",
    "parameters = {\n",
    "    'scaler__n_quantiles': [400],\n",
    "    'logreg__penalty': ['l2'],\n",
    "    'logreg__C': [10, 1],\n",
    "    'logreg__solver': ['saga'],\n",
    "    'logreg__class_weight': ['balanced', None]\n",
    "    'logreg__max_iter': [300],\n",
    "    'logreg__multi_class': ['auto']\n",
    "}\n",
    "log_grid = GridSearchCV(log_grid_pipeline, parameters, cv=5, n_jobs=-1)\n",
    "log_grid_fit = log_grid.fit(X_train,y_train)"
   ]
  },
  {
   "cell_type": "code",
   "execution_count": 22,
   "id": "prime-default",
   "metadata": {},
   "outputs": [
    {
     "name": "stdout",
     "output_type": "stream",
     "text": [
      "Best score:  0.6577117924887472\n",
      "Best params:  {'logreg__C': 10, 'logreg__class_weight': 'balanced', 'logreg__max_iter': 300, 'logreg__multi_class': 'auto', 'logreg__penalty': 'l2', 'logreg__solver': 'saga', 'scaler__n_quantiles': 400}\n",
      "\n",
      "Classification report:\n",
      "\n",
      "               precision    recall  f1-score   support\n",
      "\n",
      "           0       0.67      0.67      0.67      5864\n",
      "           1       0.66      0.65      0.66      5671\n",
      "\n",
      "    accuracy                           0.66     11535\n",
      "   macro avg       0.66      0.66      0.66     11535\n",
      "weighted avg       0.66      0.66      0.66     11535\n",
      "\n"
     ]
    },
    {
     "data": {
      "image/png": "[encoded data removed]",
      "text/plain": [
       "<Figure size 576x576 with 1 Axes>"
      ]
     },
     "metadata": {
      "needs_background": "light"
     },
     "output_type": "display_data"
    }
   ],
   "source": [
    "print(\"Best score: \", log_grid.best_score_)\n",
    "print(\"Best params: \", log_grid.best_params_)\n",
    "log_est = log_grid_fit.best_estimator_\n",
    "# Test set\n",
    "log_grid_pred = log_est.predict(X_test)\n",
    "print(\"\\nClassification report:\\n\\n\", classification_report(y_test, log_grid_pred))\n",
    "print_conf_matrix(\"Logistic regression\", y_test, log_grid_pred)"
   ]
  },
  {
   "cell_type": "code",
   "execution_count": 23,
   "id": "informed-rescue",
   "metadata": {},
   "outputs": [
    {
     "name": "stdout",
     "output_type": "stream",
     "text": [
      "\n",
      "Classification report:\n",
      "\n",
      "               precision    recall  f1-score   support\n",
      "\n",
      "           0       0.66      0.67      0.67     13680\n",
      "           1       0.66      0.65      0.65     13233\n",
      "\n",
      "    accuracy                           0.66     26913\n",
      "   macro avg       0.66      0.66      0.66     26913\n",
      "weighted avg       0.66      0.66      0.66     26913\n",
      "\n"
     ]
    }
   ],
   "source": [
    "# Train set\n",
    "log_grid_pred = log_est.predict(X_train)\n",
    "print(\"\\nClassification report:\\n\\n\", classification_report(y_train, log_grid_pred))"
   ]
  },
  {
   "cell_type": "code",
   "execution_count": 105,
   "id": "useful-portland",
   "metadata": {},
   "outputs": [],
   "source": [
    "check_time(\"Logistic Regression\", log_est)"
   ]
  },
  {
   "cell_type": "markdown",
   "id": "rental-organic",
   "metadata": {},
   "source": [
    "## Ridge Regression"
   ]
  },
  {
   "cell_type": "markdown",
   "id": "universal-nickel",
   "metadata": {},
   "source": [
    "### Baseline"
   ]
  },
  {
   "cell_type": "code",
   "execution_count": 106,
   "id": "married-situation",
   "metadata": {},
   "outputs": [
    {
     "name": "stdout",
     "output_type": "stream",
     "text": [
      "Score mean:  0.6291112106684417\n"
     ]
    }
   ],
   "source": [
    "ridge_reg = RidgeClassifier()\n",
    "score_ridge_reg = cross_val_score(ridge_reg, X, y, cv=5)\n",
    "print(\"Score mean: \", score_ridge_reg.mean())"
   ]
  },
  {
   "cell_type": "code",
   "execution_count": 107,
   "id": "under-venezuela",
   "metadata": {},
   "outputs": [
    {
     "name": "stdout",
     "output_type": "stream",
     "text": [
      "Classification report:\n",
      "\n",
      "               precision    recall  f1-score   support\n",
      "\n",
      "           0       0.65      0.60      0.62     19544\n",
      "           1       0.61      0.66      0.64     18904\n",
      "\n",
      "    accuracy                           0.63     38448\n",
      "   macro avg       0.63      0.63      0.63     38448\n",
      "weighted avg       0.63      0.63      0.63     38448\n",
      "\n"
     ]
    }
   ],
   "source": [
    "y_pred_ridge = cross_val_predict(ridge_reg, X, y, cv=5)\n",
    "print(\"Classification report:\\n\\n\", classification_report(y, y_pred_ridge))"
   ]
  },
  {
   "cell_type": "markdown",
   "id": "failing-blowing",
   "metadata": {},
   "source": [
    "### Ridge regression with scalers"
   ]
  },
  {
   "cell_type": "code",
   "execution_count": 108,
   "id": "liberal-camping",
   "metadata": {},
   "outputs": [
    {
     "name": "stdout",
     "output_type": "stream",
     "text": [
      "Score mean:  0.642427526801414\n"
     ]
    }
   ],
   "source": [
    "# QuantileTransformer\n",
    "ridge_reg_qt_pipeline = make_pipeline(QuantileTransformer(), RidgeClassifier())\n",
    "score_ridge_qt = cross_val_score(ridge_reg_qt_pipeline, X, y, cv=5)\n",
    "print(\"Score mean: \", score_ridge_qt.mean())"
   ]
  },
  {
   "cell_type": "code",
   "execution_count": 109,
   "id": "rough-platinum",
   "metadata": {},
   "outputs": [
    {
     "name": "stdout",
     "output_type": "stream",
     "text": [
      "Classification report:\n",
      "\n",
      "               precision    recall  f1-score   support\n",
      "\n",
      "           0       0.66      0.62      0.64     19544\n",
      "           1       0.63      0.66      0.65     18904\n",
      "\n",
      "    accuracy                           0.64     38448\n",
      "   macro avg       0.64      0.64      0.64     38448\n",
      "weighted avg       0.64      0.64      0.64     38448\n",
      "\n"
     ]
    }
   ],
   "source": [
    "y_pred_ridge_qt = cross_val_predict(ridge_reg_qt_pipeline, X, y, cv=5)\n",
    "print(\"Classification report:\\n\\n\", classification_report(y, y_pred_ridge_qt))"
   ]
  },
  {
   "cell_type": "markdown",
   "id": "fitting-secretariat",
   "metadata": {},
   "source": [
    "## Ridge Regression with GridSearchCV"
   ]
  },
  {
   "cell_type": "code",
   "execution_count": 24,
   "id": "regional-interim",
   "metadata": {},
   "outputs": [],
   "source": [
    "ridge_grid_pipeline = Pipeline([( \"scaler\", QuantileTransformer(random_state=0)), (\"ridge\", RidgeClassifier())])\n",
    "parameters = {\n",
    "    'scaler__n_quantiles': [500],\n",
    "    'ridge__alpha': [0.1, 1.0],\n",
    "    'ridge__max_iter': [None],\n",
    "    'ridge__class_weight': [None, 'balanced'], \n",
    "    'ridge__solver': ['sparse_cg', 'cholesky', 'auto', 'svd']\n",
    "}\n",
    "ridge_grid = GridSearchCV(ridge_grid_pipeline, parameters, cv=5, n_jobs=-1)\n",
    "ridge_grid_fit = ridge_grid.fit(X_train,y_train)"
   ]
  },
  {
   "cell_type": "code",
   "execution_count": 25,
   "id": "collaborative-inside",
   "metadata": {},
   "outputs": [
    {
     "name": "stdout",
     "output_type": "stream",
     "text": [
      "Best score:  0.6566342297444236\n",
      "Best params:  {'ridge__alpha': 0.1, 'ridge__class_weight': None, 'ridge__max_iter': None, 'ridge__solver': 'sparse_cg', 'scaler__n_quantiles': 500}\n",
      "\n",
      "Classification report:\n",
      "\n",
      "               precision    recall  f1-score   support\n",
      "\n",
      "           0       0.66      0.69      0.67      5864\n",
      "           1       0.66      0.64      0.65      5671\n",
      "\n",
      "    accuracy                           0.66     11535\n",
      "   macro avg       0.66      0.66      0.66     11535\n",
      "weighted avg       0.66      0.66      0.66     11535\n",
      "\n"
     ]
    },
    {
     "data": {
      "image/png": "[encoded data removed]",
      "text/plain": [
       "<Figure size 576x576 with 1 Axes>"
      ]
     },
     "metadata": {
      "needs_background": "light"
     },
     "output_type": "display_data"
    }
   ],
   "source": [
    "print(\"Best score: \", ridge_grid.best_score_)\n",
    "print(\"Best params: \", ridge_grid.best_params_)\n",
    "ridge_est = ridge_grid_fit.best_estimator_\n",
    "# Test set\n",
    "ridge_grid_pred = ridge_est.predict(X_test)\n",
    "print(\"\\nClassification report:\\n\\n\", classification_report(y_test, ridge_grid_pred))\n",
    "print_conf_matrix(\"Ridge Regression\", y_test, ridge_grid_pred)"
   ]
  },
  {
   "cell_type": "code",
   "execution_count": 27,
   "id": "desirable-shakespeare",
   "metadata": {},
   "outputs": [
    {
     "name": "stdout",
     "output_type": "stream",
     "text": [
      "\n",
      "Classification report:\n",
      "\n",
      "               precision    recall  f1-score   support\n",
      "\n",
      "           0       0.66      0.69      0.67     13680\n",
      "           1       0.66      0.63      0.64     13233\n",
      "\n",
      "    accuracy                           0.66     26913\n",
      "   macro avg       0.66      0.66      0.66     26913\n",
      "weighted avg       0.66      0.66      0.66     26913\n",
      "\n"
     ]
    }
   ],
   "source": [
    "# Train set\n",
    "ridge_grid_pred = ridge_est.predict(X_train)\n",
    "print(\"\\nClassification report:\\n\\n\", classification_report(y_train, ridge_grid_pred))"
   ]
  },
  {
   "cell_type": "code",
   "execution_count": 126,
   "id": "auburn-cookbook",
   "metadata": {},
   "outputs": [],
   "source": [
    "check_time(\"Logistic Regression\", ridge_est)"
   ]
  },
  {
   "cell_type": "markdown",
   "id": "institutional-consent",
   "metadata": {},
   "source": [
    "## Random Forest"
   ]
  },
  {
   "cell_type": "markdown",
   "id": "substantial-representation",
   "metadata": {},
   "source": [
    "### Baseline"
   ]
  },
  {
   "cell_type": "code",
   "execution_count": 36,
   "id": "collectible-oregon",
   "metadata": {},
   "outputs": [
    {
     "name": "stdout",
     "output_type": "stream",
     "text": [
      "Score mean:  0.6432079536723547\n"
     ]
    }
   ],
   "source": [
    "rand_for = cross_val_score(RandomForestClassifier(random_state=0), X, y, cv=5)\n",
    "print(\"Score mean: \", rand_for.mean())"
   ]
  },
  {
   "cell_type": "code",
   "execution_count": 37,
   "id": "missing-persian",
   "metadata": {},
   "outputs": [
    {
     "name": "stdout",
     "output_type": "stream",
     "text": [
      "Classification report:\n",
      "\n",
      "               precision    recall  f1-score   support\n",
      "\n",
      "           0       0.66      0.62      0.64     19544\n",
      "           1       0.63      0.67      0.65     18904\n",
      "\n",
      "    accuracy                           0.64     38448\n",
      "   macro avg       0.64      0.64      0.64     38448\n",
      "weighted avg       0.64      0.64      0.64     38448\n",
      "\n"
     ]
    }
   ],
   "source": [
    "y_pred_rand_for = cross_val_predict(RandomForestClassifier(random_state=0), X, y, cv=5)\n",
    "print(\"Classification report:\\n\\n\", classification_report(y, y_pred_rand_for))"
   ]
  },
  {
   "cell_type": "markdown",
   "id": "split-observer",
   "metadata": {},
   "source": [
    "### Random Forest with HalvingGridSearchCV"
   ]
  },
  {
   "cell_type": "code",
   "execution_count": 28,
   "id": "dynamic-diamond",
   "metadata": {},
   "outputs": [],
   "source": [
    "model_rd = RandomForestClassifier(random_state=0)\n",
    "param_grid = {\n",
    "    'n_estimators': [400],\n",
    "    'criterion': ['entropy'],\n",
    "    'max_depth': [None, 200],\n",
    "    'max_features': ['log2'],\n",
    "    'bootstrap': [True],\n",
    "    'class_weight': [None],\n",
    "    'min_samples_leaf': [8, 1], \n",
    "    'min_samples_split': [20, 2] \n",
    "}\n",
    "rd_grid = HalvingGridSearchCV(model_rd, param_grid, cv=3, factor=5, refit=True, n_jobs=-1)\n",
    "rd_grid_fit = rd_grid.fit(X_train, y_train)"
   ]
  },
  {
   "cell_type": "code",
   "execution_count": 29,
   "id": "adolescent-administration",
   "metadata": {},
   "outputs": [
    {
     "name": "stdout",
     "output_type": "stream",
     "text": [
      "Best score:  0.6626165793482705\n",
      "Best params:  {'bootstrap': True, 'class_weight': None, 'criterion': 'entropy', 'max_depth': None, 'max_features': 'log2', 'min_samples_leaf': 8, 'min_samples_split': 20, 'n_estimators': 400}\n",
      "\n",
      "Classification report:\n",
      "\n",
      "               precision    recall  f1-score   support\n",
      "\n",
      "           0       0.67      0.68      0.68      5864\n",
      "           1       0.67      0.65      0.66      5671\n",
      "\n",
      "    accuracy                           0.67     11535\n",
      "   macro avg       0.67      0.67      0.67     11535\n",
      "weighted avg       0.67      0.67      0.67     11535\n",
      "\n"
     ]
    },
    {
     "data": {
      "image/png": "[encoded data removed]",
      "text/plain": [
       "<Figure size 576x576 with 1 Axes>"
      ]
     },
     "metadata": {
      "needs_background": "light"
     },
     "output_type": "display_data"
    },
    {
     "data": {
      "image/png": "[encoded data removed]",
      "text/plain": [
       "<Figure size 864x576 with 1 Axes>"
      ]
     },
     "metadata": {},
     "output_type": "display_data"
    }
   ],
   "source": [
    "print(\"Best score: \", rd_grid.best_score_)\n",
    "print(\"Best params: \", rd_grid.best_params_)\n",
    "rd_est = rd_grid_fit.best_estimator_\n",
    "# Test set\n",
    "rd_grid_pred = rd_est.predict(X_test)\n",
    "print(\"\\nClassification report:\\n\\n\", classification_report(y_test, rd_grid_pred))\n",
    "print_conf_matrix(\"Random Forest\", y_test, rd_grid_pred)\n",
    "feature_importances(\"Random Forest\", X.columns, rd_grid_fit)"
   ]
  },
  {
   "cell_type": "code",
   "execution_count": 31,
   "id": "willing-trade",
   "metadata": {},
   "outputs": [
    {
     "name": "stdout",
     "output_type": "stream",
     "text": [
      "\n",
      "Classification report:\n",
      "\n",
      "               precision    recall  f1-score   support\n",
      "\n",
      "           0       0.89      0.90      0.89     13680\n",
      "           1       0.90      0.88      0.89     13233\n",
      "\n",
      "    accuracy                           0.89     26913\n",
      "   macro avg       0.89      0.89      0.89     26913\n",
      "weighted avg       0.89      0.89      0.89     26913\n",
      "\n"
     ]
    }
   ],
   "source": [
    "# Train set\n",
    "rd_grid_pred = rd_est.predict(X_train)\n",
    "print(\"\\nClassification report:\\n\\n\", classification_report(y_train, rd_grid_pred))"
   ]
  },
  {
   "cell_type": "code",
   "execution_count": 151,
   "id": "representative-jungle",
   "metadata": {},
   "outputs": [],
   "source": [
    "check_time(\"Random Forest\", rd_est)"
   ]
  },
  {
   "cell_type": "markdown",
   "id": "atlantic-matrix",
   "metadata": {},
   "source": [
    "## Decision Tree"
   ]
  },
  {
   "cell_type": "markdown",
   "id": "inside-tuning",
   "metadata": {},
   "source": [
    "### Baseline"
   ]
  },
  {
   "cell_type": "code",
   "execution_count": 152,
   "id": "boolean-silly",
   "metadata": {},
   "outputs": [
    {
     "name": "stdout",
     "output_type": "stream",
     "text": [
      "Score mean:  0.5598220314058843\n"
     ]
    }
   ],
   "source": [
    "d_tree = cross_val_score(DecisionTreeClassifier(random_state=0), X, y, cv=5)\n",
    "print(\"Score mean: \", d_tree.mean())"
   ]
  },
  {
   "cell_type": "code",
   "execution_count": 153,
   "id": "sitting-taylor",
   "metadata": {},
   "outputs": [
    {
     "name": "stdout",
     "output_type": "stream",
     "text": [
      "Classification report:\n",
      "\n",
      "               precision    recall  f1-score   support\n",
      "\n",
      "           0       0.57      0.55      0.56     19544\n",
      "           1       0.55      0.57      0.56     18904\n",
      "\n",
      "    accuracy                           0.56     38448\n",
      "   macro avg       0.56      0.56      0.56     38448\n",
      "weighted avg       0.56      0.56      0.56     38448\n",
      "\n"
     ]
    }
   ],
   "source": [
    "y_pred_d_tree = cross_val_predict(DecisionTreeClassifier(random_state=0), X, y, cv=5)\n",
    "print(\"Classification report:\\n\\n\", classification_report(y, y_pred_d_tree))"
   ]
  },
  {
   "cell_type": "markdown",
   "id": "latter-reunion",
   "metadata": {},
   "source": [
    "### Decision Tree with GridSearchCV"
   ]
  },
  {
   "cell_type": "code",
   "execution_count": 32,
   "id": "hungarian-devices",
   "metadata": {},
   "outputs": [],
   "source": [
    "model_dtree = DecisionTreeClassifier(random_state=0)\n",
    "parameters = {\n",
    "    'criterion': ['gini', 'entropy'], \n",
    "    'splitter': ['random', 'best'], \n",
    "    'min_samples_leaf': [12, 1, 8], \n",
    "    'max_depth': [100, 300],\n",
    "    'max_features': [\"auto\"],\n",
    "    'class_weight': [None, 'balanced'],\n",
    "    'min_samples_split': [25, 2],\n",
    "    'min_weight_fraction_leaf': [0.0]\n",
    "}\n",
    "dtree_grid = GridSearchCV(model_dtree, parameters, cv=5, n_jobs=-1)\n",
    "dtree_grid_fit = dtree_grid.fit(X_train, y_train)"
   ]
  },
  {
   "cell_type": "code",
   "execution_count": 33,
   "id": "personalized-deputy",
   "metadata": {},
   "outputs": [
    {
     "name": "stdout",
     "output_type": "stream",
     "text": [
      "Best score:  0.6101138830261915\n",
      "Best params:  {'class_weight': None, 'criterion': 'gini', 'max_depth': 100, 'max_features': 'auto', 'min_samples_leaf': 12, 'min_samples_split': 25, 'min_weight_fraction_leaf': 0.0, 'splitter': 'random'}\n",
      "\n",
      "Classification report:\n",
      "\n",
      "               precision    recall  f1-score   support\n",
      "\n",
      "           0       0.62      0.64      0.63      5864\n",
      "           1       0.62      0.60      0.61      5671\n",
      "\n",
      "    accuracy                           0.62     11535\n",
      "   macro avg       0.62      0.62      0.62     11535\n",
      "weighted avg       0.62      0.62      0.62     11535\n",
      "\n"
     ]
    },
    {
     "data": {
      "image/png": "[encoded data removed]",
      "text/plain": [
       "<Figure size 576x576 with 1 Axes>"
      ]
     },
     "metadata": {
      "needs_background": "light"
     },
     "output_type": "display_data"
    }
   ],
   "source": [
    "print(\"Best score: \", dtree_grid.best_score_)\n",
    "print(\"Best params: \", dtree_grid.best_params_)\n",
    "dtree_est = dtree_grid_fit.best_estimator_\n",
    "# Test set\n",
    "dtree_grid_pred = dtree_est.predict(X_test)\n",
    "print(\"\\nClassification report:\\n\\n\", classification_report(y_test, dtree_grid_pred))\n",
    "print_conf_matrix(\"Decision Tree\", y_test, dtree_grid_pred)"
   ]
  },
  {
   "cell_type": "code",
   "execution_count": 35,
   "id": "unknown-external",
   "metadata": {},
   "outputs": [
    {
     "name": "stdout",
     "output_type": "stream",
     "text": [
      "\n",
      "Classification report:\n",
      "\n",
      "               precision    recall  f1-score   support\n",
      "\n",
      "           0       0.67      0.69      0.68     13680\n",
      "           1       0.67      0.65      0.66     13233\n",
      "\n",
      "    accuracy                           0.67     26913\n",
      "   macro avg       0.67      0.67      0.67     26913\n",
      "weighted avg       0.67      0.67      0.67     26913\n",
      "\n"
     ]
    }
   ],
   "source": [
    "# Train set\n",
    "dt_grid_pred = dtree_est.predict(X_train)\n",
    "print(\"\\nClassification report:\\n\\n\", classification_report(y_train, dt_grid_pred))"
   ]
  },
  {
   "cell_type": "code",
   "execution_count": 210,
   "id": "linear-premiere",
   "metadata": {},
   "outputs": [],
   "source": [
    "check_time(\"Decision Tree\", dtree_est)"
   ]
  },
  {
   "cell_type": "markdown",
   "id": "violent-player",
   "metadata": {},
   "source": [
    "## K-nearest neighbors"
   ]
  },
  {
   "cell_type": "markdown",
   "id": "alpine-latin",
   "metadata": {},
   "source": [
    "### Baseline"
   ]
  },
  {
   "cell_type": "code",
   "execution_count": 215,
   "id": "blocked-furniture",
   "metadata": {},
   "outputs": [
    {
     "name": "stdout",
     "output_type": "stream",
     "text": [
      "Score mean:  0.5987835661402023\n"
     ]
    }
   ],
   "source": [
    "knn_qt_pipeline = make_pipeline(QuantileTransformer(), KNeighborsClassifier())\n",
    "score_knn_qt = cross_val_score(knn_qt_pipeline, X, y, cv=5)\n",
    "print(\"Score mean: \", score_knn_qt.mean())"
   ]
  },
  {
   "cell_type": "code",
   "execution_count": 216,
   "id": "stuck-zambia",
   "metadata": {},
   "outputs": [
    {
     "name": "stdout",
     "output_type": "stream",
     "text": [
      "Classification report:\n",
      "\n",
      "               precision    recall  f1-score   support\n",
      "\n",
      "           0       0.60      0.61      0.61     19544\n",
      "           1       0.59      0.58      0.59     18904\n",
      "\n",
      "    accuracy                           0.60     38448\n",
      "   macro avg       0.60      0.60      0.60     38448\n",
      "weighted avg       0.60      0.60      0.60     38448\n",
      "\n"
     ]
    }
   ],
   "source": [
    "y_pred_knn = cross_val_predict(knn_qt_pipeline, X, y, cv=5)\n",
    "print(\"Classification report:\\n\\n\", classification_report(y, y_pred_knn))"
   ]
  },
  {
   "cell_type": "markdown",
   "id": "cultural-province",
   "metadata": {},
   "source": [
    "### K-nearest neighbors with GridSearchCV"
   ]
  },
  {
   "cell_type": "code",
   "execution_count": 36,
   "id": "formal-number",
   "metadata": {},
   "outputs": [],
   "source": [
    "knn_grid_pipeline = Pipeline([(\"scaler\", QuantileTransformer(random_state=0)), (\"knn\", KNeighborsClassifier())])\n",
    "parameters = {\n",
    "    'scaler__n_quantiles': [500],\n",
    "    'knn__n_neighbors': [15],\n",
    "    'knn__metric': ['minkowski'],\n",
    "    'knn__weights': ['uniform'],\n",
    "    'knn__algorithm': ['auto'],\n",
    "    'knn__leaf_size': [20, 30],\n",
    "    'knn__p': [1, 2]\n",
    "}\n",
    "knn_grid = GridSearchCV(knn_grid_pipeline, parameters, cv=5, n_jobs=-1)\n",
    "knn_grid_fit = knn_grid.fit(X_train, y_train)"
   ]
  },
  {
   "cell_type": "code",
   "execution_count": 37,
   "id": "necessary-excellence",
   "metadata": {},
   "outputs": [
    {
     "name": "stdout",
     "output_type": "stream",
     "text": [
      "Best score:  0.6276143988814311\n",
      "Best params:  {'knn__algorithm': 'auto', 'knn__leaf_size': 20, 'knn__metric': 'minkowski', 'knn__n_neighbors': 15, 'knn__p': 1, 'knn__weights': 'uniform', 'scaler__n_quantiles': 500}\n",
      "\n",
      "Classification report:\n",
      "\n",
      "               precision    recall  f1-score   support\n",
      "\n",
      "           0       0.63      0.68      0.65      5864\n",
      "           1       0.64      0.58      0.61      5671\n",
      "\n",
      "    accuracy                           0.63     11535\n",
      "   macro avg       0.63      0.63      0.63     11535\n",
      "weighted avg       0.63      0.63      0.63     11535\n",
      "\n"
     ]
    },
    {
     "data": {
      "image/png": "[encoded data removed]",
      "text/plain": [
       "<Figure size 576x576 with 1 Axes>"
      ]
     },
     "metadata": {
      "needs_background": "light"
     },
     "output_type": "display_data"
    }
   ],
   "source": [
    "print(\"Best score: \", knn_grid.best_score_)\n",
    "print(\"Best params: \", knn_grid.best_params_)\n",
    "knn_est = knn_grid_fit.best_estimator_\n",
    "# Test set\n",
    "knn_grid_pred = knn_est.predict(X_test)\n",
    "print(\"\\nClassification report:\\n\\n\", classification_report(y_test, knn_grid_pred))\n",
    "print_conf_matrix(\"KNN\", y_test, knn_grid_pred)"
   ]
  },
  {
   "cell_type": "code",
   "execution_count": 38,
   "id": "dependent-decrease",
   "metadata": {},
   "outputs": [
    {
     "name": "stdout",
     "output_type": "stream",
     "text": [
      "\n",
      "Classification report:\n",
      "\n",
      "               precision    recall  f1-score   support\n",
      "\n",
      "           0       0.68      0.74      0.71     13680\n",
      "           1       0.71      0.63      0.67     13233\n",
      "\n",
      "    accuracy                           0.69     26913\n",
      "   macro avg       0.69      0.69      0.69     26913\n",
      "weighted avg       0.69      0.69      0.69     26913\n",
      "\n"
     ]
    }
   ],
   "source": [
    "# Train set\n",
    "knn_grid_pred = knn_est.predict(X_train)\n",
    "print(\"\\nClassification report:\\n\\n\", classification_report(y_train, knn_grid_pred))"
   ]
  },
  {
   "cell_type": "code",
   "execution_count": 218,
   "id": "single-disaster",
   "metadata": {},
   "outputs": [],
   "source": [
    "check_time(\"KNN\", knn_est)"
   ]
  },
  {
   "cell_type": "markdown",
   "id": "spectacular-detroit",
   "metadata": {},
   "source": [
    "## Stochastic Gradient Boosting"
   ]
  },
  {
   "cell_type": "markdown",
   "id": "pretty-allah",
   "metadata": {},
   "source": [
    "### Baseline"
   ]
  },
  {
   "cell_type": "code",
   "execution_count": 14,
   "id": "referenced-jurisdiction",
   "metadata": {},
   "outputs": [
    {
     "name": "stdout",
     "output_type": "stream",
     "text": [
      "Score mean:  0.6427661964865959\n"
     ]
    }
   ],
   "source": [
    "grad_b = cross_val_score(GradientBoostingClassifier(), X, y, cv=5)\n",
    "print(\"Score mean: \", grad_b.mean())"
   ]
  },
  {
   "cell_type": "code",
   "execution_count": 15,
   "id": "electronic-apartment",
   "metadata": {},
   "outputs": [
    {
     "name": "stdout",
     "output_type": "stream",
     "text": [
      "Classification report:\n",
      "\n",
      "               precision    recall  f1-score   support\n",
      "\n",
      "           0       0.66      0.63      0.64     19544\n",
      "           1       0.63      0.66      0.64     18904\n",
      "\n",
      "    accuracy                           0.64     38448\n",
      "   macro avg       0.64      0.64      0.64     38448\n",
      "weighted avg       0.64      0.64      0.64     38448\n",
      "\n"
     ]
    }
   ],
   "source": [
    "y_pred_grad = cross_val_predict(GradientBoostingClassifier(), X, y, cv=5)\n",
    "print(\"Classification report:\\n\\n\", classification_report(y, y_pred_grad))"
   ]
  },
  {
   "cell_type": "markdown",
   "id": "operational-ranking",
   "metadata": {},
   "source": [
    "### Stochastic Gradient Boosting with HalvingGridSearchCV"
   ]
  },
  {
   "cell_type": "code",
   "execution_count": 39,
   "id": "accepted-ethiopia",
   "metadata": {},
   "outputs": [],
   "source": [
    "model_grad = GradientBoostingClassifier()\n",
    "param_grid = {\n",
    "    'loss': ['deviance'],\n",
    "    'n_estimators': [80, 110, 300],\n",
    "    'subsample': [0.8],\n",
    "    'criterion': ['friedman_mse'],\n",
    "    'min_samples_split': [30, 20], \n",
    "    'min_samples_leaf': [15, 8], \n",
    "    'max_depth': [5, 8],\n",
    "    'max_features': ['log2'],\n",
    "    'learning_rate': [0.1, 0.05]\n",
    "}\n",
    "grad_grid = HalvingGridSearchCV(model_grad, param_grid, cv=3, factor=5, refit=True, n_jobs=-1)\n",
    "grad_grid_fit = grad_grid.fit(X_train, y_train)"
   ]
  },
  {
   "cell_type": "code",
   "execution_count": 40,
   "id": "sharp-volleyball",
   "metadata": {
    "scrolled": false
   },
   "outputs": [
    {
     "name": "stdout",
     "output_type": "stream",
     "text": [
      "Best score:  0.6644744175677181\n",
      "Best params:  {'criterion': 'friedman_mse', 'learning_rate': 0.1, 'loss': 'deviance', 'max_depth': 5, 'max_features': 'log2', 'min_samples_leaf': 15, 'min_samples_split': 30, 'n_estimators': 80, 'subsample': 0.8}\n",
      "\n",
      "Classification report:\n",
      "\n",
      "               precision    recall  f1-score   support\n",
      "\n",
      "           0       0.67      0.68      0.68      5864\n",
      "           1       0.67      0.65      0.66      5671\n",
      "\n",
      "    accuracy                           0.67     11535\n",
      "   macro avg       0.67      0.67      0.67     11535\n",
      "weighted avg       0.67      0.67      0.67     11535\n",
      "\n"
     ]
    },
    {
     "data": {
      "image/png": "[encoded data removed]",
      "text/plain": [
       "<Figure size 576x576 with 1 Axes>"
      ]
     },
     "metadata": {
      "needs_background": "light"
     },
     "output_type": "display_data"
    },
    {
     "data": {
      "image/png": "[encoded data removed]",
      "text/plain": [
       "<Figure size 864x576 with 1 Axes>"
      ]
     },
     "metadata": {},
     "output_type": "display_data"
    }
   ],
   "source": [
    "print(\"Best score: \", grad_grid.best_score_)\n",
    "print(\"Best params: \", grad_grid.best_params_)\n",
    "grad_est = grad_grid_fit.best_estimator_\n",
    "# Test set\n",
    "grad_grid_pred = grad_est.predict(X_test)\n",
    "print(\"\\nClassification report:\\n\\n\", classification_report(y_test, grad_grid_pred))\n",
    "print_conf_matrix(\"Gradient Boosting\", y_test, grad_grid_pred)\n",
    "feature_importances(\"Stochastic Gradient Boosting\", X.columns, grad_grid_fit)"
   ]
  },
  {
   "cell_type": "code",
   "execution_count": 41,
   "id": "electoral-animal",
   "metadata": {},
   "outputs": [
    {
     "name": "stdout",
     "output_type": "stream",
     "text": [
      "\n",
      "Classification report:\n",
      "\n",
      "               precision    recall  f1-score   support\n",
      "\n",
      "           0       0.71      0.72      0.71     13680\n",
      "           1       0.71      0.69      0.70     13233\n",
      "\n",
      "    accuracy                           0.71     26913\n",
      "   macro avg       0.71      0.71      0.71     26913\n",
      "weighted avg       0.71      0.71      0.71     26913\n",
      "\n"
     ]
    }
   ],
   "source": [
    "# Train set\n",
    "grad_grid_pred = grad_est.predict(X_train)\n",
    "print(\"\\nClassification report:\\n\\n\", classification_report(y_train, grad_grid_pred))"
   ]
  },
  {
   "cell_type": "code",
   "execution_count": null,
   "id": "conservative-template",
   "metadata": {},
   "outputs": [],
   "source": [
    "check_time(\"Stochastic Gradient Boosting\", grad_est)"
   ]
  },
  {
   "cell_type": "markdown",
   "id": "excited-surgery",
   "metadata": {},
   "source": [
    "## Multi-layer Perceptron"
   ]
  },
  {
   "cell_type": "markdown",
   "id": "covered-british",
   "metadata": {},
   "source": [
    "### Baseline"
   ]
  },
  {
   "cell_type": "code",
   "execution_count": 33,
   "id": "surrounded-practice",
   "metadata": {
    "scrolled": false
   },
   "outputs": [
    {
     "name": "stderr",
     "output_type": "stream",
     "text": [
      "C:\\Users\\Alex\\anaconda3\\lib\\site-packages\\sklearn\\neural_network\\_multilayer_perceptron.py:614: ConvergenceWarning: Stochastic Optimizer: Maximum iterations (200) reached and the optimization hasn't converged yet.\n",
      "  warnings.warn(\n",
      "C:\\Users\\Alex\\anaconda3\\lib\\site-packages\\sklearn\\neural_network\\_multilayer_perceptron.py:614: ConvergenceWarning: Stochastic Optimizer: Maximum iterations (200) reached and the optimization hasn't converged yet.\n",
      "  warnings.warn(\n",
      "C:\\Users\\Alex\\anaconda3\\lib\\site-packages\\sklearn\\neural_network\\_multilayer_perceptron.py:614: ConvergenceWarning: Stochastic Optimizer: Maximum iterations (200) reached and the optimization hasn't converged yet.\n",
      "  warnings.warn(\n",
      "C:\\Users\\Alex\\anaconda3\\lib\\site-packages\\sklearn\\neural_network\\_multilayer_perceptron.py:614: ConvergenceWarning: Stochastic Optimizer: Maximum iterations (200) reached and the optimization hasn't converged yet.\n",
      "  warnings.warn(\n"
     ]
    },
    {
     "name": "stdout",
     "output_type": "stream",
     "text": [
      "Score mean:  0.6207099801939541\n"
     ]
    },
    {
     "name": "stderr",
     "output_type": "stream",
     "text": [
      "C:\\Users\\Alex\\anaconda3\\lib\\site-packages\\sklearn\\neural_network\\_multilayer_perceptron.py:614: ConvergenceWarning: Stochastic Optimizer: Maximum iterations (200) reached and the optimization hasn't converged yet.\n",
      "  warnings.warn(\n"
     ]
    }
   ],
   "source": [
    "mlp_qt_pipeline = make_pipeline(QuantileTransformer(), MLPClassifier())\n",
    "score_mlp_qt = cross_val_score(mlp_qt_pipeline, X, y, cv=5)\n",
    "print(\"Score mean: \", score_mlp_qt.mean())"
   ]
  },
  {
   "cell_type": "code",
   "execution_count": 34,
   "id": "divine-shepherd",
   "metadata": {
    "scrolled": true
   },
   "outputs": [
    {
     "name": "stderr",
     "output_type": "stream",
     "text": [
      "C:\\Users\\Alex\\anaconda3\\lib\\site-packages\\sklearn\\neural_network\\_multilayer_perceptron.py:614: ConvergenceWarning: Stochastic Optimizer: Maximum iterations (200) reached and the optimization hasn't converged yet.\n",
      "  warnings.warn(\n",
      "C:\\Users\\Alex\\anaconda3\\lib\\site-packages\\sklearn\\neural_network\\_multilayer_perceptron.py:614: ConvergenceWarning: Stochastic Optimizer: Maximum iterations (200) reached and the optimization hasn't converged yet.\n",
      "  warnings.warn(\n",
      "C:\\Users\\Alex\\anaconda3\\lib\\site-packages\\sklearn\\neural_network\\_multilayer_perceptron.py:614: ConvergenceWarning: Stochastic Optimizer: Maximum iterations (200) reached and the optimization hasn't converged yet.\n",
      "  warnings.warn(\n",
      "C:\\Users\\Alex\\anaconda3\\lib\\site-packages\\sklearn\\neural_network\\_multilayer_perceptron.py:614: ConvergenceWarning: Stochastic Optimizer: Maximum iterations (200) reached and the optimization hasn't converged yet.\n",
      "  warnings.warn(\n"
     ]
    },
    {
     "name": "stdout",
     "output_type": "stream",
     "text": [
      "Classification report:\n",
      "\n",
      "               precision    recall  f1-score   support\n",
      "\n",
      "           0       0.64      0.59      0.61     19544\n",
      "           1       0.61      0.65      0.63     18904\n",
      "\n",
      "    accuracy                           0.62     38448\n",
      "   macro avg       0.62      0.62      0.62     38448\n",
      "weighted avg       0.62      0.62      0.62     38448\n",
      "\n"
     ]
    },
    {
     "name": "stderr",
     "output_type": "stream",
     "text": [
      "C:\\Users\\Alex\\anaconda3\\lib\\site-packages\\sklearn\\neural_network\\_multilayer_perceptron.py:614: ConvergenceWarning: Stochastic Optimizer: Maximum iterations (200) reached and the optimization hasn't converged yet.\n",
      "  warnings.warn(\n"
     ]
    }
   ],
   "source": [
    "y_pred_mlp_qt = cross_val_predict(mlp_qt_pipeline, X, y, cv=5)\n",
    "print(\"Classification report:\\n\\n\", classification_report(y, y_pred_mlp_qt))"
   ]
  },
  {
   "cell_type": "markdown",
   "id": "executed-narrative",
   "metadata": {},
   "source": [
    "## Multi-layer Perceptron with GridSearchCV"
   ]
  },
  {
   "cell_type": "code",
   "execution_count": 42,
   "id": "overhead-generic",
   "metadata": {},
   "outputs": [
    {
     "name": "stderr",
     "output_type": "stream",
     "text": [
      "C:\\Users\\Alex\\anaconda3\\lib\\site-packages\\sklearn\\neural_network\\_multilayer_perceptron.py:614: ConvergenceWarning: Stochastic Optimizer: Maximum iterations (100) reached and the optimization hasn't converged yet.\n",
      "  warnings.warn(\n"
     ]
    }
   ],
   "source": [
    "mlp_grid_pipeline = Pipeline([(\"scaler\", QuantileTransformer(random_state=0)), (\"mlp\", MLPClassifier(random_state=0))])\n",
    "parameters = {\n",
    "    'scaler__n_quantiles': [300],\n",
    "    'mlp__hidden_layer_sizes': [(40, )], # (50, 50, 50)\n",
    "    'mlp__activation': ['tanh', 'relu'],\n",
    "    'mlp__max_iter': [100],\n",
    "    'mlp__alpha': [0.05, 0.0001]\n",
    "}\n",
    "mlp_grid = GridSearchCV(mlp_grid_pipeline, parameters, cv=3, n_jobs=-1)\n",
    "mlp_grid_fit = mlp_grid.fit(X_train, y_train)"
   ]
  },
  {
   "cell_type": "code",
   "execution_count": 43,
   "id": "spread-letter",
   "metadata": {},
   "outputs": [
    {
     "name": "stdout",
     "output_type": "stream",
     "text": [
      "Best score:  0.6603128599561551\n",
      "Best params:  {'mlp__activation': 'tanh', 'mlp__alpha': 0.05, 'mlp__hidden_layer_sizes': (40,), 'mlp__max_iter': 100, 'scaler__n_quantiles': 300}\n",
      "\n",
      "Classification report:\n",
      "\n",
      "               precision    recall  f1-score   support\n",
      "\n",
      "           0       0.66      0.71      0.68      5864\n",
      "           1       0.67      0.62      0.64      5671\n",
      "\n",
      "    accuracy                           0.66     11535\n",
      "   macro avg       0.66      0.66      0.66     11535\n",
      "weighted avg       0.66      0.66      0.66     11535\n",
      "\n"
     ]
    },
    {
     "data": {
      "image/png": "[encoded data removed]",
      "text/plain": [
       "<Figure size 576x576 with 1 Axes>"
      ]
     },
     "metadata": {
      "needs_background": "light"
     },
     "output_type": "display_data"
    }
   ],
   "source": [
    "# print(mlp_grid_pipeline.cv_results_)\n",
    "print(\"Best score: \", mlp_grid.best_score_)\n",
    "print(\"Best params: \", mlp_grid.best_params_)\n",
    "mlp_est = mlp_grid_fit.best_estimator_\n",
    "mlp_grid_pred = mlp_est.predict(X_test)\n",
    "print(\"\\nClassification report:\\n\\n\", classification_report(y_test, mlp_grid_pred))\n",
    "print_conf_matrix(\"MLP\", y_test, mlp_grid_pred)"
   ]
  },
  {
   "cell_type": "code",
   "execution_count": 44,
   "id": "initial-sunglasses",
   "metadata": {},
   "outputs": [
    {
     "name": "stdout",
     "output_type": "stream",
     "text": [
      "\n",
      "Classification report:\n",
      "\n",
      "               precision    recall  f1-score   support\n",
      "\n",
      "           0       0.66      0.71      0.69     13680\n",
      "           1       0.68      0.63      0.65     13233\n",
      "\n",
      "    accuracy                           0.67     26913\n",
      "   macro avg       0.67      0.67      0.67     26913\n",
      "weighted avg       0.67      0.67      0.67     26913\n",
      "\n"
     ]
    }
   ],
   "source": [
    "# Train set\n",
    "mlp_grid_pred = mlp_est.predict(X_train)\n",
    "print(\"\\nClassification report:\\n\\n\", classification_report(y_train, mlp_grid_pred))"
   ]
  },
  {
   "cell_type": "code",
   "execution_count": 229,
   "id": "cellular-finger",
   "metadata": {},
   "outputs": [],
   "source": [
    "check_time(\"MLP\", mlp_est)"
   ]
  },
  {
   "cell_type": "markdown",
   "id": "circular-digit",
   "metadata": {},
   "source": [
    "## ROC Curve"
   ]
  },
  {
   "cell_type": "code",
   "execution_count": 45,
   "id": "challenging-arcade",
   "metadata": {},
   "outputs": [
    {
     "data": {
      "image/png": "[encoded data removed]",
      "text/plain": [
       "<Figure size 1080x720 with 1 Axes>"
      ]
     },
     "metadata": {
      "needs_background": "light"
     },
     "output_type": "display_data"
    }
   ],
   "source": [
    "plt.figure(figsize=(15, 10))\n",
    "\n",
    "# Logistic Regression\n",
    "probs = log_est.predict_proba(X_test)\n",
    "preds = probs[:,1]\n",
    "fpr, tpr, threshold = roc_curve(y_test, preds)\n",
    "roc_auc = auc(fpr, tpr)\n",
    "plt.plot(fpr, tpr, label='%s ROC (area = %0.2f)' % ('LogReg',roc_auc))\n",
    "\n",
    "# Random Forest\n",
    "probs = rd_est.predict_proba(X_test)\n",
    "preds = probs[:,1]\n",
    "fpr, tpr, threshold = roc_curve(y_test, preds)\n",
    "roc_auc = auc(fpr, tpr)\n",
    "plt.plot(fpr, tpr, label='%s ROC (area = %0.2f)' % ('RF',roc_auc))\n",
    "\n",
    "# Decision tree\n",
    "probs = dtree_est.predict_proba(X_test)\n",
    "preds = probs[:,1]\n",
    "fpr, tpr, threshold = roc_curve(y_test, preds)\n",
    "roc_auc = auc(fpr, tpr)\n",
    "plt.plot(fpr, tpr, label='%s ROC (area = %0.2f)' % ('DT',roc_auc))\n",
    "\n",
    "# K-nearest neighbors\n",
    "probs = knn_est.predict_proba(X_test)\n",
    "preds = probs[:,1]\n",
    "fpr, tpr, threshold = roc_curve(y_test, preds)\n",
    "roc_auc = auc(fpr, tpr)\n",
    "plt.plot(fpr, tpr, label='%s ROC (area = %0.2f)' % ('KNN',roc_auc))\n",
    "\n",
    "# Ridge\n",
    "preds = ridge_est.decision_function(X_test)\n",
    "fpr, tpr, threshold = roc_curve(y_test, preds)\n",
    "roc_auc = auc(fpr, tpr)\n",
    "plt.plot(fpr, tpr, label='%s ROC (area = %0.2f)' % ('RidgeReg',roc_auc))\n",
    "\n",
    "# Stochastic Gradient Boosting\n",
    "probs = grad_est.predict_proba(X_test)\n",
    "preds = probs[:,1]\n",
    "fpr, tpr, threshold = roc_curve(y_test, preds)\n",
    "roc_auc = auc(fpr, tpr)\n",
    "plt.plot(fpr, tpr, label='%s ROC (area = %0.2f)' % ('SGB',roc_auc))\n",
    "\n",
    "# Multi-layer Perceptron\n",
    "probs = mlp_est.predict_proba(X_test)\n",
    "preds = probs[:,1]\n",
    "fpr, tpr, threshold = roc_curve(y_test, preds)\n",
    "roc_auc = auc(fpr, tpr)\n",
    "plt.plot(fpr, tpr, label='%s ROC (area = %0.2f)' % ('MLP',roc_auc))\n",
    "\n",
    "plt.plot([0, 1], [0, 1], 'k--')\n",
    "plt.xlim([0.0, 1.0])\n",
    "plt.ylim([0.0, 1.0])\n",
    "plt.xlabel('False Positive Rate', fontsize=14, fontweight='bold')\n",
    "plt.ylabel('True Positive Rate', fontsize=14, fontweight='bold')\n",
    "plt.legend(loc=0, fontsize=14)\n",
    "plt.title('ROC of tuned models after GridSearchCV', fontsize=18, fontweight='bold', pad=20)\n",
    "plt.savefig('roc_classif.png', dpi=250)\n",
    "plt.show()"
   ]
  },
  {
   "cell_type": "code",
   "execution_count": null,
   "id": "injured-retention",
   "metadata": {},
   "outputs": [],
   "source": []
  }
 ],
 "metadata": {
  "kernelspec": {
   "display_name": "Python 3",
   "language": "python",
   "name": "python3"
  },
  "language_info": {
   "codemirror_mode": {
    "name": "ipython",
    "version": 3
   },
   "file_extension": ".py",
   "mimetype": "text/x-python",
   "name": "python",
   "nbconvert_exporter": "python",
   "pygments_lexer": "ipython3",
   "version": "3.8.6"
  }
 },
 "nbformat": 4,
 "nbformat_minor": 5
}
