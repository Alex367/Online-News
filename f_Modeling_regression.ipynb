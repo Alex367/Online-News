{
 "cells": [
  {
   "cell_type": "code",
   "execution_count": 204,
   "id": "manual-charleston",
   "metadata": {},
   "outputs": [],
   "source": [
    "import pandas as pd\n",
    "import numpy as np\n",
    "from sklearn import metrics\n",
    "import matplotlib.pyplot as plt\n",
    "from sklearn.pipeline import make_pipeline, Pipeline\n",
    "from sklearn.model_selection import cross_val_score, cross_val_predict, train_test_split, GridSearchCV\n",
    "from sklearn.ensemble import RandomForestRegressor\n",
    "from sklearn.linear_model import LinearRegression, Lasso, Ridge\n",
    "from sklearn.preprocessing import QuantileTransformer\n",
    "from sklearn.tree import DecisionTreeRegressor\n",
    "from sklearn.neighbors import KNeighborsRegressor"
   ]
  },
  {
   "cell_type": "code",
   "execution_count": 205,
   "id": "dominant-trailer",
   "metadata": {},
   "outputs": [],
   "source": [
    "reg_data = pd.read_csv('WithOutliers.csv', sep=',')"
   ]
  },
  {
   "cell_type": "code",
   "execution_count": 206,
   "id": "central-feature",
   "metadata": {},
   "outputs": [
    {
     "data": {
      "text/html": [
       "<div>\n",
       "<style scoped>\n",
       "    .dataframe tbody tr th:only-of-type {\n",
       "        vertical-align: middle;\n",
       "    }\n",
       "\n",
       "    .dataframe tbody tr th {\n",
       "        vertical-align: top;\n",
       "    }\n",
       "\n",
       "    .dataframe thead th {\n",
       "        text-align: right;\n",
       "    }\n",
       "</style>\n",
       "<table border=\"1\" class=\"dataframe\">\n",
       "  <thead>\n",
       "    <tr style=\"text-align: right;\">\n",
       "      <th></th>\n",
       "      <th>n_tokens_title</th>\n",
       "      <th>n_tokens_content</th>\n",
       "      <th>n_unique_tokens</th>\n",
       "      <th>num_hrefs</th>\n",
       "      <th>num_self_hrefs</th>\n",
       "      <th>num_imgs</th>\n",
       "      <th>num_videos</th>\n",
       "      <th>average_token_length</th>\n",
       "      <th>num_keywords</th>\n",
       "      <th>data_channel_is_lifestyle</th>\n",
       "      <th>...</th>\n",
       "      <th>min_positive_polarity</th>\n",
       "      <th>max_positive_polarity</th>\n",
       "      <th>min_negative_polarity</th>\n",
       "      <th>max_negative_polarity</th>\n",
       "      <th>title_subjectivity</th>\n",
       "      <th>title_sentiment_polarity</th>\n",
       "      <th>abs_title_subjectivity</th>\n",
       "      <th>shares</th>\n",
       "      <th>log_shares</th>\n",
       "      <th>cl_shares</th>\n",
       "    </tr>\n",
       "  </thead>\n",
       "  <tbody>\n",
       "    <tr>\n",
       "      <th>0</th>\n",
       "      <td>12.0</td>\n",
       "      <td>219.0</td>\n",
       "      <td>0.663594</td>\n",
       "      <td>4.0</td>\n",
       "      <td>2.0</td>\n",
       "      <td>1.0</td>\n",
       "      <td>0.0</td>\n",
       "      <td>4.680365</td>\n",
       "      <td>5.0</td>\n",
       "      <td>0.0</td>\n",
       "      <td>...</td>\n",
       "      <td>0.100000</td>\n",
       "      <td>0.7</td>\n",
       "      <td>-0.600</td>\n",
       "      <td>-0.200000</td>\n",
       "      <td>0.500000</td>\n",
       "      <td>-0.187500</td>\n",
       "      <td>0.000000</td>\n",
       "      <td>593</td>\n",
       "      <td>6.385194</td>\n",
       "      <td>0</td>\n",
       "    </tr>\n",
       "    <tr>\n",
       "      <th>1</th>\n",
       "      <td>9.0</td>\n",
       "      <td>255.0</td>\n",
       "      <td>0.604743</td>\n",
       "      <td>3.0</td>\n",
       "      <td>1.0</td>\n",
       "      <td>1.0</td>\n",
       "      <td>0.0</td>\n",
       "      <td>4.913725</td>\n",
       "      <td>4.0</td>\n",
       "      <td>0.0</td>\n",
       "      <td>...</td>\n",
       "      <td>0.033333</td>\n",
       "      <td>0.7</td>\n",
       "      <td>-0.125</td>\n",
       "      <td>-0.100000</td>\n",
       "      <td>0.000000</td>\n",
       "      <td>0.000000</td>\n",
       "      <td>0.500000</td>\n",
       "      <td>711</td>\n",
       "      <td>6.566672</td>\n",
       "      <td>0</td>\n",
       "    </tr>\n",
       "    <tr>\n",
       "      <th>2</th>\n",
       "      <td>9.0</td>\n",
       "      <td>211.0</td>\n",
       "      <td>0.575130</td>\n",
       "      <td>3.0</td>\n",
       "      <td>1.0</td>\n",
       "      <td>1.0</td>\n",
       "      <td>0.0</td>\n",
       "      <td>4.393365</td>\n",
       "      <td>6.0</td>\n",
       "      <td>0.0</td>\n",
       "      <td>...</td>\n",
       "      <td>0.100000</td>\n",
       "      <td>1.0</td>\n",
       "      <td>-0.800</td>\n",
       "      <td>-0.133333</td>\n",
       "      <td>0.000000</td>\n",
       "      <td>0.000000</td>\n",
       "      <td>0.500000</td>\n",
       "      <td>1500</td>\n",
       "      <td>7.313220</td>\n",
       "      <td>1</td>\n",
       "    </tr>\n",
       "    <tr>\n",
       "      <th>3</th>\n",
       "      <td>9.0</td>\n",
       "      <td>531.0</td>\n",
       "      <td>0.503788</td>\n",
       "      <td>9.0</td>\n",
       "      <td>0.0</td>\n",
       "      <td>1.0</td>\n",
       "      <td>0.0</td>\n",
       "      <td>4.404896</td>\n",
       "      <td>7.0</td>\n",
       "      <td>0.0</td>\n",
       "      <td>...</td>\n",
       "      <td>0.136364</td>\n",
       "      <td>0.8</td>\n",
       "      <td>-0.600</td>\n",
       "      <td>-0.166667</td>\n",
       "      <td>0.000000</td>\n",
       "      <td>0.000000</td>\n",
       "      <td>0.500000</td>\n",
       "      <td>1200</td>\n",
       "      <td>7.090077</td>\n",
       "      <td>0</td>\n",
       "    </tr>\n",
       "    <tr>\n",
       "      <th>4</th>\n",
       "      <td>13.0</td>\n",
       "      <td>1072.0</td>\n",
       "      <td>0.415646</td>\n",
       "      <td>19.0</td>\n",
       "      <td>19.0</td>\n",
       "      <td>20.0</td>\n",
       "      <td>0.0</td>\n",
       "      <td>4.682836</td>\n",
       "      <td>7.0</td>\n",
       "      <td>0.0</td>\n",
       "      <td>...</td>\n",
       "      <td>0.033333</td>\n",
       "      <td>1.0</td>\n",
       "      <td>-0.500</td>\n",
       "      <td>-0.050000</td>\n",
       "      <td>0.454545</td>\n",
       "      <td>0.136364</td>\n",
       "      <td>0.045455</td>\n",
       "      <td>505</td>\n",
       "      <td>6.224558</td>\n",
       "      <td>0</td>\n",
       "    </tr>\n",
       "  </tbody>\n",
       "</table>\n",
       "<p>5 rows × 45 columns</p>\n",
       "</div>"
      ],
      "text/plain": [
       "   n_tokens_title  n_tokens_content  n_unique_tokens  num_hrefs  \\\n",
       "0            12.0             219.0         0.663594        4.0   \n",
       "1             9.0             255.0         0.604743        3.0   \n",
       "2             9.0             211.0         0.575130        3.0   \n",
       "3             9.0             531.0         0.503788        9.0   \n",
       "4            13.0            1072.0         0.415646       19.0   \n",
       "\n",
       "   num_self_hrefs  num_imgs  num_videos  average_token_length  num_keywords  \\\n",
       "0             2.0       1.0         0.0              4.680365           5.0   \n",
       "1             1.0       1.0         0.0              4.913725           4.0   \n",
       "2             1.0       1.0         0.0              4.393365           6.0   \n",
       "3             0.0       1.0         0.0              4.404896           7.0   \n",
       "4            19.0      20.0         0.0              4.682836           7.0   \n",
       "\n",
       "   data_channel_is_lifestyle  ...  min_positive_polarity  \\\n",
       "0                        0.0  ...               0.100000   \n",
       "1                        0.0  ...               0.033333   \n",
       "2                        0.0  ...               0.100000   \n",
       "3                        0.0  ...               0.136364   \n",
       "4                        0.0  ...               0.033333   \n",
       "\n",
       "   max_positive_polarity  min_negative_polarity  max_negative_polarity  \\\n",
       "0                    0.7                 -0.600              -0.200000   \n",
       "1                    0.7                 -0.125              -0.100000   \n",
       "2                    1.0                 -0.800              -0.133333   \n",
       "3                    0.8                 -0.600              -0.166667   \n",
       "4                    1.0                 -0.500              -0.050000   \n",
       "\n",
       "   title_subjectivity  title_sentiment_polarity  abs_title_subjectivity  \\\n",
       "0            0.500000                 -0.187500                0.000000   \n",
       "1            0.000000                  0.000000                0.500000   \n",
       "2            0.000000                  0.000000                0.500000   \n",
       "3            0.000000                  0.000000                0.500000   \n",
       "4            0.454545                  0.136364                0.045455   \n",
       "\n",
       "   shares  log_shares  cl_shares  \n",
       "0     593    6.385194          0  \n",
       "1     711    6.566672          0  \n",
       "2    1500    7.313220          1  \n",
       "3    1200    7.090077          0  \n",
       "4     505    6.224558          0  \n",
       "\n",
       "[5 rows x 45 columns]"
      ]
     },
     "execution_count": 206,
     "metadata": {},
     "output_type": "execute_result"
    }
   ],
   "source": [
    "reg_data.head()"
   ]
  },
  {
   "cell_type": "code",
   "execution_count": 207,
   "id": "brave-scratch",
   "metadata": {},
   "outputs": [
    {
     "data": {
      "text/plain": [
       "(38448, 45)"
      ]
     },
     "execution_count": 207,
     "metadata": {},
     "output_type": "execute_result"
    }
   ],
   "source": [
    "reg_data.shape"
   ]
  },
  {
   "cell_type": "code",
   "execution_count": 208,
   "id": "reliable-diana",
   "metadata": {},
   "outputs": [
    {
     "data": {
      "text/html": [
       "<div>\n",
       "<style scoped>\n",
       "    .dataframe tbody tr th:only-of-type {\n",
       "        vertical-align: middle;\n",
       "    }\n",
       "\n",
       "    .dataframe tbody tr th {\n",
       "        vertical-align: top;\n",
       "    }\n",
       "\n",
       "    .dataframe thead th {\n",
       "        text-align: right;\n",
       "    }\n",
       "</style>\n",
       "<table border=\"1\" class=\"dataframe\">\n",
       "  <thead>\n",
       "    <tr style=\"text-align: right;\">\n",
       "      <th></th>\n",
       "      <th>n_tokens_title</th>\n",
       "      <th>n_tokens_content</th>\n",
       "      <th>n_unique_tokens</th>\n",
       "      <th>num_hrefs</th>\n",
       "      <th>num_self_hrefs</th>\n",
       "      <th>num_imgs</th>\n",
       "      <th>num_videos</th>\n",
       "      <th>average_token_length</th>\n",
       "      <th>num_keywords</th>\n",
       "      <th>data_channel_is_lifestyle</th>\n",
       "      <th>...</th>\n",
       "      <th>global_rate_negative_words</th>\n",
       "      <th>rate_positive_words</th>\n",
       "      <th>avg_positive_polarity</th>\n",
       "      <th>min_positive_polarity</th>\n",
       "      <th>max_positive_polarity</th>\n",
       "      <th>min_negative_polarity</th>\n",
       "      <th>max_negative_polarity</th>\n",
       "      <th>title_subjectivity</th>\n",
       "      <th>title_sentiment_polarity</th>\n",
       "      <th>abs_title_subjectivity</th>\n",
       "    </tr>\n",
       "  </thead>\n",
       "  <tbody>\n",
       "    <tr>\n",
       "      <th>0</th>\n",
       "      <td>12.0</td>\n",
       "      <td>219.0</td>\n",
       "      <td>0.663594</td>\n",
       "      <td>4.0</td>\n",
       "      <td>2.0</td>\n",
       "      <td>1.0</td>\n",
       "      <td>0.0</td>\n",
       "      <td>4.680365</td>\n",
       "      <td>5.0</td>\n",
       "      <td>0.0</td>\n",
       "      <td>...</td>\n",
       "      <td>0.013699</td>\n",
       "      <td>0.769231</td>\n",
       "      <td>0.378636</td>\n",
       "      <td>0.100000</td>\n",
       "      <td>0.7</td>\n",
       "      <td>-0.600</td>\n",
       "      <td>-0.200000</td>\n",
       "      <td>0.500000</td>\n",
       "      <td>-0.187500</td>\n",
       "      <td>0.000000</td>\n",
       "    </tr>\n",
       "    <tr>\n",
       "      <th>1</th>\n",
       "      <td>9.0</td>\n",
       "      <td>255.0</td>\n",
       "      <td>0.604743</td>\n",
       "      <td>3.0</td>\n",
       "      <td>1.0</td>\n",
       "      <td>1.0</td>\n",
       "      <td>0.0</td>\n",
       "      <td>4.913725</td>\n",
       "      <td>4.0</td>\n",
       "      <td>0.0</td>\n",
       "      <td>...</td>\n",
       "      <td>0.015686</td>\n",
       "      <td>0.733333</td>\n",
       "      <td>0.286915</td>\n",
       "      <td>0.033333</td>\n",
       "      <td>0.7</td>\n",
       "      <td>-0.125</td>\n",
       "      <td>-0.100000</td>\n",
       "      <td>0.000000</td>\n",
       "      <td>0.000000</td>\n",
       "      <td>0.500000</td>\n",
       "    </tr>\n",
       "    <tr>\n",
       "      <th>2</th>\n",
       "      <td>9.0</td>\n",
       "      <td>211.0</td>\n",
       "      <td>0.575130</td>\n",
       "      <td>3.0</td>\n",
       "      <td>1.0</td>\n",
       "      <td>1.0</td>\n",
       "      <td>0.0</td>\n",
       "      <td>4.393365</td>\n",
       "      <td>6.0</td>\n",
       "      <td>0.0</td>\n",
       "      <td>...</td>\n",
       "      <td>0.009479</td>\n",
       "      <td>0.857143</td>\n",
       "      <td>0.495833</td>\n",
       "      <td>0.100000</td>\n",
       "      <td>1.0</td>\n",
       "      <td>-0.800</td>\n",
       "      <td>-0.133333</td>\n",
       "      <td>0.000000</td>\n",
       "      <td>0.000000</td>\n",
       "      <td>0.500000</td>\n",
       "    </tr>\n",
       "    <tr>\n",
       "      <th>3</th>\n",
       "      <td>9.0</td>\n",
       "      <td>531.0</td>\n",
       "      <td>0.503788</td>\n",
       "      <td>9.0</td>\n",
       "      <td>0.0</td>\n",
       "      <td>1.0</td>\n",
       "      <td>0.0</td>\n",
       "      <td>4.404896</td>\n",
       "      <td>7.0</td>\n",
       "      <td>0.0</td>\n",
       "      <td>...</td>\n",
       "      <td>0.020716</td>\n",
       "      <td>0.666667</td>\n",
       "      <td>0.385965</td>\n",
       "      <td>0.136364</td>\n",
       "      <td>0.8</td>\n",
       "      <td>-0.600</td>\n",
       "      <td>-0.166667</td>\n",
       "      <td>0.000000</td>\n",
       "      <td>0.000000</td>\n",
       "      <td>0.500000</td>\n",
       "    </tr>\n",
       "    <tr>\n",
       "      <th>4</th>\n",
       "      <td>13.0</td>\n",
       "      <td>1072.0</td>\n",
       "      <td>0.415646</td>\n",
       "      <td>19.0</td>\n",
       "      <td>19.0</td>\n",
       "      <td>20.0</td>\n",
       "      <td>0.0</td>\n",
       "      <td>4.682836</td>\n",
       "      <td>7.0</td>\n",
       "      <td>0.0</td>\n",
       "      <td>...</td>\n",
       "      <td>0.012127</td>\n",
       "      <td>0.860215</td>\n",
       "      <td>0.411127</td>\n",
       "      <td>0.033333</td>\n",
       "      <td>1.0</td>\n",
       "      <td>-0.500</td>\n",
       "      <td>-0.050000</td>\n",
       "      <td>0.454545</td>\n",
       "      <td>0.136364</td>\n",
       "      <td>0.045455</td>\n",
       "    </tr>\n",
       "  </tbody>\n",
       "</table>\n",
       "<p>5 rows × 42 columns</p>\n",
       "</div>"
      ],
      "text/plain": [
       "   n_tokens_title  n_tokens_content  n_unique_tokens  num_hrefs  \\\n",
       "0            12.0             219.0         0.663594        4.0   \n",
       "1             9.0             255.0         0.604743        3.0   \n",
       "2             9.0             211.0         0.575130        3.0   \n",
       "3             9.0             531.0         0.503788        9.0   \n",
       "4            13.0            1072.0         0.415646       19.0   \n",
       "\n",
       "   num_self_hrefs  num_imgs  num_videos  average_token_length  num_keywords  \\\n",
       "0             2.0       1.0         0.0              4.680365           5.0   \n",
       "1             1.0       1.0         0.0              4.913725           4.0   \n",
       "2             1.0       1.0         0.0              4.393365           6.0   \n",
       "3             0.0       1.0         0.0              4.404896           7.0   \n",
       "4            19.0      20.0         0.0              4.682836           7.0   \n",
       "\n",
       "   data_channel_is_lifestyle  ...  global_rate_negative_words  \\\n",
       "0                        0.0  ...                    0.013699   \n",
       "1                        0.0  ...                    0.015686   \n",
       "2                        0.0  ...                    0.009479   \n",
       "3                        0.0  ...                    0.020716   \n",
       "4                        0.0  ...                    0.012127   \n",
       "\n",
       "   rate_positive_words  avg_positive_polarity  min_positive_polarity  \\\n",
       "0             0.769231               0.378636               0.100000   \n",
       "1             0.733333               0.286915               0.033333   \n",
       "2             0.857143               0.495833               0.100000   \n",
       "3             0.666667               0.385965               0.136364   \n",
       "4             0.860215               0.411127               0.033333   \n",
       "\n",
       "   max_positive_polarity  min_negative_polarity  max_negative_polarity  \\\n",
       "0                    0.7                 -0.600              -0.200000   \n",
       "1                    0.7                 -0.125              -0.100000   \n",
       "2                    1.0                 -0.800              -0.133333   \n",
       "3                    0.8                 -0.600              -0.166667   \n",
       "4                    1.0                 -0.500              -0.050000   \n",
       "\n",
       "   title_subjectivity  title_sentiment_polarity  abs_title_subjectivity  \n",
       "0            0.500000                 -0.187500                0.000000  \n",
       "1            0.000000                  0.000000                0.500000  \n",
       "2            0.000000                  0.000000                0.500000  \n",
       "3            0.000000                  0.000000                0.500000  \n",
       "4            0.454545                  0.136364                0.045455  \n",
       "\n",
       "[5 rows x 42 columns]"
      ]
     },
     "execution_count": 208,
     "metadata": {},
     "output_type": "execute_result"
    }
   ],
   "source": [
    "X = reg_data.iloc[:, :42]\n",
    "X.head()"
   ]
  },
  {
   "cell_type": "code",
   "execution_count": 209,
   "id": "imposed-atlanta",
   "metadata": {},
   "outputs": [
    {
     "data": {
      "text/plain": [
       "0         593\n",
       "1         711\n",
       "2        1500\n",
       "3        1200\n",
       "4         505\n",
       "         ... \n",
       "38443    1800\n",
       "38444    1900\n",
       "38445    1900\n",
       "38446    1100\n",
       "38447    1300\n",
       "Name: shares, Length: 38448, dtype: int64"
      ]
     },
     "execution_count": 209,
     "metadata": {},
     "output_type": "execute_result"
    }
   ],
   "source": [
    "y = reg_data.shares\n",
    "y"
   ]
  },
  {
   "cell_type": "code",
   "execution_count": 210,
   "id": "phantom-detector",
   "metadata": {},
   "outputs": [],
   "source": [
    "X_train,X_test,y_train,y_test = train_test_split(X,y,test_size = 0.3)"
   ]
  },
  {
   "cell_type": "code",
   "execution_count": 211,
   "id": "afraid-undergraduate",
   "metadata": {},
   "outputs": [],
   "source": [
    "accuracy = dict()"
   ]
  },
  {
   "cell_type": "markdown",
   "id": "israeli-mining",
   "metadata": {},
   "source": [
    "# Regression modeling"
   ]
  },
  {
   "cell_type": "markdown",
   "id": "rational-diversity",
   "metadata": {},
   "source": [
    "Regression models:\n",
    "- Linear regression\n",
    "- Lasso regression\n",
    "- Ridge regression\n",
    "- Random forest\n",
    "- Decision Tree\n",
    "- K-nearest neighbors"
   ]
  },
  {
   "cell_type": "markdown",
   "id": "aggressive-symbol",
   "metadata": {},
   "source": [
    "## Linear regression"
   ]
  },
  {
   "cell_type": "markdown",
   "id": "scenic-disabled",
   "metadata": {},
   "source": [
    "### Baseline"
   ]
  },
  {
   "cell_type": "code",
   "execution_count": 212,
   "id": "bridal-prize",
   "metadata": {},
   "outputs": [
    {
     "name": "stdout",
     "output_type": "stream",
     "text": [
      "R2 mean:  0.0233414603746791\n"
     ]
    }
   ],
   "source": [
    "# QuantileTransformer\n",
    "lin_reg_qt_pipeline = make_pipeline(QuantileTransformer(), LinearRegression())\n",
    "score_lin_qt = cross_val_score(lin_reg_qt_pipeline, X, y, scoring=\"r2\", cv=5)\n",
    "print(\"R2 mean: \", score_lin_qt.mean())"
   ]
  },
  {
   "cell_type": "code",
   "execution_count": 213,
   "id": "large-andorra",
   "metadata": {},
   "outputs": [
    {
     "name": "stdout",
     "output_type": "stream",
     "text": [
      "R2 score for prediction:  0.01831911638000494\n",
      "Mean squared error:  131818861.13219804\n"
     ]
    }
   ],
   "source": [
    "y_pred_lin_qt = cross_val_predict(lin_reg_qt_pipeline, X, y, cv=5)\n",
    "print(\"R2 score for prediction: \", metrics.r2_score(y, y_pred_lin_qt))\n",
    "print(\"Mean squared error: \", metrics.mean_squared_error(y, y_pred_lin_qt))"
   ]
  },
  {
   "cell_type": "markdown",
   "id": "architectural-grade",
   "metadata": {},
   "source": [
    "### Linear regression with GridSearchCV"
   ]
  },
  {
   "cell_type": "code",
   "execution_count": 214,
   "id": "unsigned-stocks",
   "metadata": {},
   "outputs": [
    {
     "name": "stdout",
     "output_type": "stream",
     "text": [
      "R2 score for prediction:  0.02372937841815803\n",
      "Mean squared error:  121936017.47568306\n"
     ]
    }
   ],
   "source": [
    "pipeline = Pipeline([(\"qt\", QuantileTransformer()), (\"linreg\", LinearRegression())])\n",
    "parameters = {\n",
    "    'qt__n_quantiles': [1500],\n",
    "    'linreg__fit_intercept': [True, False],\n",
    "    'linreg__copy_X': [True, False]\n",
    "}\n",
    "grid_lin = GridSearchCV(pipeline, parameters)\n",
    "lin_fit = grid_lin.fit(X_train, y_train)\n",
    "\n",
    "lin_est = lin_fit.best_estimator_\n",
    "y_pred_lin = lin_est.predict(X_test)\n",
    "print(\"R2 score for prediction: \", metrics.r2_score(y_test, y_pred_lin))\n",
    "print(\"Mean squared error: \", metrics.mean_squared_error(y_test, y_pred_lin))\n",
    "accuracy[\"R2 score linear regression\"] = metrics.r2_score(y_test, y_pred_lin)"
   ]
  },
  {
   "cell_type": "markdown",
   "id": "worldwide-special",
   "metadata": {},
   "source": [
    "## Lasso"
   ]
  },
  {
   "cell_type": "markdown",
   "id": "dietary-language",
   "metadata": {},
   "source": [
    "### Baseline"
   ]
  },
  {
   "cell_type": "code",
   "execution_count": 215,
   "id": "chubby-monitor",
   "metadata": {},
   "outputs": [
    {
     "name": "stdout",
     "output_type": "stream",
     "text": [
      "R2 mean:  0.02389158761717005\n"
     ]
    }
   ],
   "source": [
    "# QuantileTransformer\n",
    "lasso_reg_qt_pipeline = make_pipeline(QuantileTransformer(), Lasso())\n",
    "score_lin_qt = cross_val_score(lasso_reg_qt_pipeline, X, y, scoring=\"r2\", cv=5)\n",
    "print(\"R2 mean: \", score_lin_qt.mean())"
   ]
  },
  {
   "cell_type": "code",
   "execution_count": 216,
   "id": "stock-monte",
   "metadata": {},
   "outputs": [
    {
     "name": "stdout",
     "output_type": "stream",
     "text": [
      "R2 score for prediction:  0.019081950220511845\n",
      "Mean squared error:  131716428.77381502\n"
     ]
    }
   ],
   "source": [
    "y_pred_lasso_qt = cross_val_predict(lasso_reg_qt_pipeline, X, y, cv=5)\n",
    "print(\"R2 score for prediction: \", metrics.r2_score(y, y_pred_lasso_qt))\n",
    "print(\"Mean squared error: \", metrics.mean_squared_error(y, y_pred_lasso_qt))"
   ]
  },
  {
   "cell_type": "markdown",
   "id": "obvious-intervention",
   "metadata": {},
   "source": [
    "### Lasso regression with GridSearchCV"
   ]
  },
  {
   "cell_type": "code",
   "execution_count": 217,
   "id": "critical-composition",
   "metadata": {},
   "outputs": [
    {
     "name": "stdout",
     "output_type": "stream",
     "text": [
      "R2 score for prediction:  0.02370306330011951\n",
      "Mean squared error:  121939304.22898905\n"
     ]
    }
   ],
   "source": [
    "pipeline = Pipeline([(\"qt\", QuantileTransformer()), (\"lasso\", Lasso())])\n",
    "parameters = {\n",
    "    'qt__n_quantiles': [500],\n",
    "    'lasso__fit_intercept': [True, False],\n",
    "    'lasso__precompute': [ False],\n",
    "    'lasso__max_iter': [1300, 1000],\n",
    "    'lasso__copy_X': [True, False]\n",
    "}\n",
    "grid_lasso = GridSearchCV(pipeline, parameters)\n",
    "lasso_fit = grid_lasso.fit(X_train, y_train)\n",
    "\n",
    "lasso_est = lasso_fit.best_estimator_\n",
    "y_pred_lasso = lasso_est.predict(X_test)\n",
    "print(\"R2 score for prediction: \", metrics.r2_score(y_test, y_pred_lasso)) \n",
    "print(\"Mean squared error: \", metrics.mean_squared_error(y_test, y_pred_lasso))\n",
    "accuracy[\"R2 score lasso regression\"] = metrics.r2_score(y_test, y_pred_lasso)"
   ]
  },
  {
   "cell_type": "markdown",
   "id": "scenic-decision",
   "metadata": {},
   "source": [
    "## Ridge"
   ]
  },
  {
   "cell_type": "markdown",
   "id": "funded-comment",
   "metadata": {},
   "source": [
    "### Baseline"
   ]
  },
  {
   "cell_type": "code",
   "execution_count": 218,
   "id": "arctic-desktop",
   "metadata": {},
   "outputs": [
    {
     "name": "stdout",
     "output_type": "stream",
     "text": [
      "R2 mean:  0.023841768548450482\n"
     ]
    }
   ],
   "source": [
    "# QuantileTransformer\n",
    "ridge_reg_qt_pipeline = make_pipeline(QuantileTransformer(), Ridge())\n",
    "score_ridge_qt = cross_val_score(ridge_reg_qt_pipeline, X, y, scoring=\"r2\", cv=5)\n",
    "print(\"R2 mean: \", score_ridge_qt.mean())"
   ]
  },
  {
   "cell_type": "code",
   "execution_count": 219,
   "id": "assisted-theology",
   "metadata": {},
   "outputs": [
    {
     "name": "stdout",
     "output_type": "stream",
     "text": [
      "R2 score for prediction:  0.019078724104501066\n",
      "Mean squared error:  131716861.97257188\n"
     ]
    }
   ],
   "source": [
    "y_pred_ridge_qt = cross_val_predict(ridge_reg_qt_pipeline, X, y, cv=5)\n",
    "print(\"R2 score for prediction: \", metrics.r2_score(y, y_pred_ridge_qt))\n",
    "print(\"Mean squared error: \", metrics.mean_squared_error(y, y_pred_ridge_qt)) "
   ]
  },
  {
   "cell_type": "markdown",
   "id": "boxed-declaration",
   "metadata": {},
   "source": [
    "### Ridge regression with GridSearchCV"
   ]
  },
  {
   "cell_type": "code",
   "execution_count": 220,
   "id": "psychological-manufacturer",
   "metadata": {},
   "outputs": [
    {
     "name": "stdout",
     "output_type": "stream",
     "text": [
      "R2 score for prediction:  0.023736959927930457\n",
      "Mean squared error:  121935070.54653488\n"
     ]
    }
   ],
   "source": [
    "pipeline = Pipeline([(\"qt\", QuantileTransformer()), (\"ridge\", Ridge())])\n",
    "parameters = {\n",
    "    'qt__n_quantiles': [500, 1000],\n",
    "    'ridge__fit_intercept': [True, False],\n",
    "    'ridge__max_iter': [1300, 1000],\n",
    "    'ridge__solver': ['auto', 'svd', 'cholesky'],\n",
    "    'ridge__copy_X': [True, False]\n",
    "}\n",
    "grid_ridge = GridSearchCV(pipeline, parameters)\n",
    "ridge_fit = grid_ridge.fit(X_train, y_train)\n",
    "\n",
    "ridge_est = ridge_fit.best_estimator_\n",
    "y_pred_ridge = ridge_est.predict(X_test)\n",
    "print(\"R2 score for prediction: \", metrics.r2_score(y_test, y_pred_ridge)) \n",
    "print(\"Mean squared error: \", metrics.mean_squared_error(y_test, y_pred_ridge))\n",
    "accuracy[\"R2 score ridge regression\"] = metrics.r2_score(y_test, y_pred_ridge)"
   ]
  },
  {
   "cell_type": "markdown",
   "id": "described-manitoba",
   "metadata": {},
   "source": [
    "## Random forest"
   ]
  },
  {
   "cell_type": "code",
   "execution_count": 221,
   "id": "received-dryer",
   "metadata": {
    "scrolled": false
   },
   "outputs": [
    {
     "name": "stdout",
     "output_type": "stream",
     "text": [
      "R2 mean:  -0.15368058301122858\n"
     ]
    }
   ],
   "source": [
    "rand_for = cross_val_score(RandomForestRegressor(), X, y, scoring=\"r2\", cv=3)\n",
    "print(\"R2 mean: \", rand_for.mean())"
   ]
  },
  {
   "cell_type": "code",
   "execution_count": 222,
   "id": "organic-highland",
   "metadata": {},
   "outputs": [
    {
     "name": "stdout",
     "output_type": "stream",
     "text": [
      "R2 score for prediction:  -0.08169235890709858\n",
      "Mean squared error:  145248274.89839315\n"
     ]
    }
   ],
   "source": [
    "y_pred_rd = cross_val_predict(RandomForestRegressor(), X, y, cv=3)\n",
    "print(\"R2 score for prediction: \", metrics.r2_score(y, y_pred_rd)) \n",
    "print(\"Mean squared error: \", metrics.mean_squared_error(y, y_pred_rd))\n",
    "accuracy[\"R2 score random forest\"] = metrics.r2_score(y, y_pred_rd)"
   ]
  },
  {
   "cell_type": "markdown",
   "id": "promotional-warning",
   "metadata": {},
   "source": [
    "## Decision Tree"
   ]
  },
  {
   "cell_type": "code",
   "execution_count": 223,
   "id": "democratic-happening",
   "metadata": {},
   "outputs": [
    {
     "name": "stdout",
     "output_type": "stream",
     "text": [
      "R2 mean:  -2.2393316266872474\n"
     ]
    }
   ],
   "source": [
    "d_tree = cross_val_score(DecisionTreeRegressor(), X, y, scoring=\"r2\", cv=5)\n",
    "print(\"R2 mean: \", d_tree.mean())"
   ]
  },
  {
   "cell_type": "code",
   "execution_count": 224,
   "id": "liberal-salmon",
   "metadata": {},
   "outputs": [
    {
     "name": "stdout",
     "output_type": "stream",
     "text": [
      "R2 score for prediction:  -0.9657069630239772\n",
      "Mean squared error:  263952632.1730389\n"
     ]
    }
   ],
   "source": [
    "y_pred_dtree = cross_val_predict(DecisionTreeRegressor(), X, y, cv=5)\n",
    "print(\"R2 score for prediction: \", metrics.r2_score(y, y_pred_dtree))\n",
    "print(\"Mean squared error: \", metrics.mean_squared_error(y, y_pred_dtree))\n",
    "accuracy[\"R2 score decision tree\"] = metrics.r2_score(y, y_pred_dtree)"
   ]
  },
  {
   "cell_type": "markdown",
   "id": "coated-recovery",
   "metadata": {},
   "source": [
    "## K-nearest neighbors"
   ]
  },
  {
   "cell_type": "code",
   "execution_count": 225,
   "id": "sonic-stress",
   "metadata": {},
   "outputs": [
    {
     "name": "stdout",
     "output_type": "stream",
     "text": [
      "R2 mean:  -0.21606388265587015\n"
     ]
    }
   ],
   "source": [
    "knn_model = cross_val_score(KNeighborsRegressor(), X, y, scoring=\"r2\", cv=5)\n",
    "print(\"R2 mean: \", knn_model.mean())"
   ]
  },
  {
   "cell_type": "code",
   "execution_count": 226,
   "id": "confused-entrepreneur",
   "metadata": {},
   "outputs": [
    {
     "name": "stdout",
     "output_type": "stream",
     "text": [
      "R2 score for prediction:  -0.11291820331848301\n",
      "Mean squared error:  149441241.59142008\n"
     ]
    }
   ],
   "source": [
    "y_pred_knn = cross_val_predict(KNeighborsRegressor(), X, y, cv=5)\n",
    "print(\"R2 score for prediction: \", metrics.r2_score(y, y_pred_knn)) # best result is 1.0\n",
    "print(\"Mean squared error: \", metrics.mean_squared_error(y, y_pred_knn)) # best result is 0\n",
    "accuracy[\"R2 score K-nearest neighbors\"] = metrics.r2_score(y, y_pred_knn)"
   ]
  },
  {
   "cell_type": "markdown",
   "id": "developmental-collectible",
   "metadata": {},
   "source": [
    "# Summary"
   ]
  },
  {
   "cell_type": "code",
   "execution_count": 227,
   "id": "strange-radar",
   "metadata": {},
   "outputs": [
    {
     "data": {
      "text/plain": [
       "[('R2 score ridge regression', 0.023736959927930457),\n",
       " ('R2 score linear regression', 0.02372937841815803),\n",
       " ('R2 score lasso regression', 0.02370306330011951),\n",
       " ('R2 score random forest', -0.08169235890709858),\n",
       " ('R2 score K-nearest neighbors', -0.11291820331848301),\n",
       " ('R2 score decision tree', -0.9657069630239772)]"
      ]
     },
     "execution_count": 227,
     "metadata": {},
     "output_type": "execute_result"
    }
   ],
   "source": [
    "# R2 score\n",
    "accuracy_ord = sorted(accuracy.items(), key=lambda item: item[1], reverse=True)\n",
    "accuracy_ord"
   ]
  },
  {
   "cell_type": "code",
   "execution_count": 228,
   "id": "historic-tuner",
   "metadata": {},
   "outputs": [
    {
     "data": {
      "image/png": "[encoded data removed]",
      "text/plain": [
       "<Figure size 1080x720 with 1 Axes>"
      ]
     },
     "metadata": {
      "needs_background": "light"
     },
     "output_type": "display_data"
    }
   ],
   "source": [
    "# Residual graph\n",
    "predictions_model = pd.DataFrame(y_pred_ridge)\n",
    "y_test_sample = y_test.reset_index(drop=True)\n",
    "residuals = y_test_sample - predictions_model[0]\n",
    "plt.figure(figsize=(15, 10))\n",
    "plt.axhline(0, color=\"blue\")\n",
    "plt.title('Residual graph', fontsize=20, fontweight='bold', pad=20)\n",
    "plt.xlabel('Residual index', fontsize=16, fontweight='bold')\n",
    "plt.ylabel('Residual', fontsize=16, fontweight='bold')\n",
    "plt.scatter(residuals.index, residuals)\n",
    "plt.savefig('reg_residuals.png', dpi=150)\n",
    "plt.show()"
   ]
  },
  {
   "cell_type": "code",
   "execution_count": 229,
   "id": "serious-painting",
   "metadata": {},
   "outputs": [],
   "source": [
    "act_pred_df = pd.DataFrame()\n",
    "y_test_values = y_test.reset_index(drop=True, inplace=False)\n",
    "act_pred_df[\"actual\"] = y_test_values"
   ]
  },
  {
   "cell_type": "code",
   "execution_count": 230,
   "id": "verbal-precipitation",
   "metadata": {},
   "outputs": [],
   "source": [
    "act_pred_df['predicted'] = predictions_model.iloc[:, 0]"
   ]
  },
  {
   "cell_type": "code",
   "execution_count": 231,
   "id": "ready-curve",
   "metadata": {},
   "outputs": [
    {
     "data": {
      "text/html": [
       "<div>\n",
       "<style scoped>\n",
       "    .dataframe tbody tr th:only-of-type {\n",
       "        vertical-align: middle;\n",
       "    }\n",
       "\n",
       "    .dataframe tbody tr th {\n",
       "        vertical-align: top;\n",
       "    }\n",
       "\n",
       "    .dataframe thead th {\n",
       "        text-align: right;\n",
       "    }\n",
       "</style>\n",
       "<table border=\"1\" class=\"dataframe\">\n",
       "  <thead>\n",
       "    <tr style=\"text-align: right;\">\n",
       "      <th></th>\n",
       "      <th>actual</th>\n",
       "      <th>predicted</th>\n",
       "    </tr>\n",
       "  </thead>\n",
       "  <tbody>\n",
       "    <tr>\n",
       "      <th>0</th>\n",
       "      <td>3600</td>\n",
       "      <td>4466.629882</td>\n",
       "    </tr>\n",
       "    <tr>\n",
       "      <th>1</th>\n",
       "      <td>1400</td>\n",
       "      <td>1607.672112</td>\n",
       "    </tr>\n",
       "    <tr>\n",
       "      <th>2</th>\n",
       "      <td>903</td>\n",
       "      <td>3564.996330</td>\n",
       "    </tr>\n",
       "    <tr>\n",
       "      <th>3</th>\n",
       "      <td>895</td>\n",
       "      <td>1343.107495</td>\n",
       "    </tr>\n",
       "    <tr>\n",
       "      <th>4</th>\n",
       "      <td>1100</td>\n",
       "      <td>-756.144109</td>\n",
       "    </tr>\n",
       "    <tr>\n",
       "      <th>...</th>\n",
       "      <td>...</td>\n",
       "      <td>...</td>\n",
       "    </tr>\n",
       "    <tr>\n",
       "      <th>11530</th>\n",
       "      <td>686</td>\n",
       "      <td>2707.007947</td>\n",
       "    </tr>\n",
       "    <tr>\n",
       "      <th>11531</th>\n",
       "      <td>984</td>\n",
       "      <td>2617.044640</td>\n",
       "    </tr>\n",
       "    <tr>\n",
       "      <th>11532</th>\n",
       "      <td>1100</td>\n",
       "      <td>4543.426707</td>\n",
       "    </tr>\n",
       "    <tr>\n",
       "      <th>11533</th>\n",
       "      <td>903</td>\n",
       "      <td>3075.522193</td>\n",
       "    </tr>\n",
       "    <tr>\n",
       "      <th>11534</th>\n",
       "      <td>4500</td>\n",
       "      <td>5580.864543</td>\n",
       "    </tr>\n",
       "  </tbody>\n",
       "</table>\n",
       "<p>11535 rows × 2 columns</p>\n",
       "</div>"
      ],
      "text/plain": [
       "       actual    predicted\n",
       "0        3600  4466.629882\n",
       "1        1400  1607.672112\n",
       "2         903  3564.996330\n",
       "3         895  1343.107495\n",
       "4        1100  -756.144109\n",
       "...       ...          ...\n",
       "11530     686  2707.007947\n",
       "11531     984  2617.044640\n",
       "11532    1100  4543.426707\n",
       "11533     903  3075.522193\n",
       "11534    4500  5580.864543\n",
       "\n",
       "[11535 rows x 2 columns]"
      ]
     },
     "execution_count": 231,
     "metadata": {},
     "output_type": "execute_result"
    }
   ],
   "source": [
    "act_pred_df"
   ]
  },
  {
   "cell_type": "code",
   "execution_count": 232,
   "id": "ultimate-airplane",
   "metadata": {},
   "outputs": [
    {
     "data": {
      "image/png": "[encoded data removed]",
      "text/plain": [
       "<Figure size 1080x720 with 1 Axes>"
      ]
     },
     "metadata": {
      "needs_background": "light"
     },
     "output_type": "display_data"
    }
   ],
   "source": [
    "plt.figure(figsize=(15, 10))\n",
    "plt.xlim(-1, act_pred_df['actual'].max())\n",
    "plt.ylim(-1, act_pred_df['actual'].max())\n",
    "plt.scatter(act_pred_df['predicted'], act_pred_df['actual'])\n",
    "plt.xlabel('Predicted shares number', fontsize=16, fontweight='bold')\n",
    "plt.ylabel('Actual shares number', fontsize=16, fontweight='bold')\n",
    "plt.plot([-1, act_pred_df['actual'].max()], [-1, act_pred_df['actual'].max()])\n",
    "plt.title('Actual and predicted article shares', fontsize=20, fontweight='bold', pad=20)\n",
    "plt.savefig('reg_actual_predicted.png', dpi=150)\n",
    "plt.show()"
   ]
  },
  {
   "cell_type": "code",
   "execution_count": null,
   "id": "permanent-joyce",
   "metadata": {},
   "outputs": [],
   "source": []
  }
 ],
 "metadata": {
  "kernelspec": {
   "display_name": "Python 3",
   "language": "python",
   "name": "python3"
  },
  "language_info": {
   "codemirror_mode": {
    "name": "ipython",
    "version": 3
   },
   "file_extension": ".py",
   "mimetype": "text/x-python",
   "name": "python",
   "nbconvert_exporter": "python",
   "pygments_lexer": "ipython3",
   "version": "3.8.6"
  }
 },
 "nbformat": 4,
 "nbformat_minor": 5
}
